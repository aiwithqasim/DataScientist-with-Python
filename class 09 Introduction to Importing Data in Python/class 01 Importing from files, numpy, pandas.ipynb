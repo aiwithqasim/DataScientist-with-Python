{
 "cells": [
  {
   "cell_type": "markdown",
   "id": "b822511f",
   "metadata": {},
   "source": [
    "# Introduction to Importing Data in Python\n",
    "👋 Welcome to your workspace! Here, you can write and run Python code and add text in Markdown. All the data files from the course, Introduction to Importing Data in Python, can be found in the datasets/ directory. The course packages have already been imported for you below. This is your sandbox environment: analyze the course datasets further, take notes, or experiment with code!"
   ]
  },
  {
   "cell_type": "code",
   "execution_count": null,
   "id": "ce33fb01",
   "metadata": {},
   "outputs": [],
   "source": [
    "# Importing course packages; you can add more too!\n",
    "import pandas as pd\n",
    "import numpy as np\n",
    "import matplotlib.pyplot as plt\n",
    "import scipy.io\n",
    "import h5py\n",
    "from sas7bdat import SAS7BDAT\n",
    "from sqlalchemy import create_engine\n",
    "import pickle"
   ]
  },
  {
   "cell_type": "markdown",
   "id": "5f300218",
   "metadata": {},
   "source": [
    "### Don't know where to start?\n",
    "\n",
    "There are nine data files in the `datasets/` directory of varying kinds: `battledeath.xlsx`, `Chinook.sqlite`, `disarea.dta`, `ja_data2.mat`, `L-L1_LOSC_4_V1-1126259446-32.hdf5`, `mnist_kaggle_some_rows.csv`, `sales.sas7bdat`, `seaslug.txt`, and `titanic_sub.csv`. \n",
    "\n",
    "Import each of these files into a format useful for data analysis in Python. "
   ]
  },
  {
   "cell_type": "code",
   "execution_count": 2,
   "id": "f7f3db74",
   "metadata": {},
   "outputs": [
    {
     "data": {
      "text/html": [
       "<div>\n",
       "<style scoped>\n",
       "    .dataframe tbody tr th:only-of-type {\n",
       "        vertical-align: middle;\n",
       "    }\n",
       "\n",
       "    .dataframe tbody tr th {\n",
       "        vertical-align: top;\n",
       "    }\n",
       "\n",
       "    .dataframe thead th {\n",
       "        text-align: right;\n",
       "    }\n",
       "</style>\n",
       "<table border=\"1\" class=\"dataframe\">\n",
       "  <thead>\n",
       "    <tr style=\"text-align: right;\">\n",
       "      <th></th>\n",
       "    </tr>\n",
       "  </thead>\n",
       "  <tbody>\n",
       "  </tbody>\n",
       "</table>\n",
       "</div>"
      ],
      "text/plain": [
       "Empty DataFrame\n",
       "Columns: []\n",
       "Index: []"
      ]
     },
     "execution_count": 2,
     "metadata": {},
     "output_type": "execute_result"
    }
   ],
   "source": [
    "print()"
   ]
  },
  {
   "cell_type": "code",
   "execution_count": null,
   "id": "9c82568d-5bc2-4014-9c6f-c78fad645925",
   "metadata": {},
   "outputs": [],
   "source": []
  }
 ],
 "metadata": {
  "kernelspec": {
   "display_name": "Python 3 (ipykernel)",
   "language": "python",
   "name": "python3"
  },
  "language_info": {
   "codemirror_mode": {
    "name": "ipython",
    "version": 3
   },
   "file_extension": ".py",
   "mimetype": "text/x-python",
   "name": "python",
   "nbconvert_exporter": "python",
   "pygments_lexer": "ipython3",
   "version": "3.9.7"
  }
 },
 "nbformat": 4,
 "nbformat_minor": 5
}
