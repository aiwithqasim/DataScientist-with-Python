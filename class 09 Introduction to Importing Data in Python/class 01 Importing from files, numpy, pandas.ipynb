{
 "cells": [
  {
   "cell_type": "markdown",
   "id": "b822511f",
   "metadata": {},
   "source": [
    "# Introduction to Importing Data in Python\n",
    "👋 Welcome to your workspace! Here, you can write and run Python code and add text in Markdown. All the data files from the course, Introduction to Importing Data in Python, can be found in the datasets/ directory. The course packages have already been imported for you below. This is your sandbox environment: analyze the course datasets further, take notes, or experiment with code!"
   ]
  },
  {
   "cell_type": "code",
   "execution_count": 16,
   "id": "ce33fb01",
   "metadata": {},
   "outputs": [],
   "source": [
    "# Importing course packages; you can add more too!\n",
    "import pandas as pd\n",
    "import numpy as np\n",
    "import matplotlib.pyplot as plt\n",
    "import scipy.io\n",
    "import h5py\n",
    "from sas7bdat import SAS7BDAT\n",
    "from sqlalchemy import create_engine\n",
    "import pickle"
   ]
  },
  {
   "cell_type": "markdown",
   "id": "5f300218",
   "metadata": {},
   "source": [
    "### Don't know where to start?\n",
    "\n",
    "There are nine data files in the `datasets/` directory of varying kinds: `battledeath.xlsx`, `Chinook.sqlite`, `disarea.dta`, `ja_data2.mat`, `L-L1_LOSC_4_V1-1126259446-32.hdf5`, `mnist_kaggle_some_rows.csv`, `sales.sas7bdat`, `seaslug.txt`, and `titanic_sub.csv`. \n",
    "\n",
    "Import each of these files into a format useful for data analysis in Python. "
   ]
  },
  {
   "cell_type": "markdown",
   "id": "5f022364-b0a5-4e1d-91de-8a68139ec8e1",
   "metadata": {},
   "source": [
    "### Import data\n",
    "- Flat files, e.g. `.txts`, `.csv`\n",
    "- files from other softwares\n",
    "- Relational databases\n",
    "\n",
    "<img src= \"./media/csv & relational database.png\">\n",
    "\n",
    "### Plain text files\n",
    "\n",
    "<center><img src= \"./media/plain txt.png\"></center>"
   ]
  },
  {
   "cell_type": "code",
   "execution_count": 5,
   "id": "f7f3db74",
   "metadata": {},
   "outputs": [
    {
     "data": {
      "text/html": [
       "<div>\n",
       "<style scoped>\n",
       "    .dataframe tbody tr th:only-of-type {\n",
       "        vertical-align: middle;\n",
       "    }\n",
       "\n",
       "    .dataframe tbody tr th {\n",
       "        vertical-align: top;\n",
       "    }\n",
       "\n",
       "    .dataframe thead th {\n",
       "        text-align: right;\n",
       "    }\n",
       "</style>\n",
       "<table border=\"1\" class=\"dataframe\">\n",
       "  <thead>\n",
       "    <tr style=\"text-align: right;\">\n",
       "      <th></th>\n",
       "      <th>PassengerId</th>\n",
       "      <th>Survived</th>\n",
       "      <th>Pclass</th>\n",
       "      <th>Sex</th>\n",
       "      <th>Age</th>\n",
       "      <th>SibSp</th>\n",
       "      <th>Parch</th>\n",
       "      <th>Ticket</th>\n",
       "      <th>Fare</th>\n",
       "      <th>Cabin</th>\n",
       "      <th>Embarked</th>\n",
       "    </tr>\n",
       "  </thead>\n",
       "  <tbody>\n",
       "    <tr>\n",
       "      <th>0</th>\n",
       "      <td>1</td>\n",
       "      <td>0</td>\n",
       "      <td>3</td>\n",
       "      <td>male</td>\n",
       "      <td>22.0</td>\n",
       "      <td>1</td>\n",
       "      <td>0</td>\n",
       "      <td>A/5 21171</td>\n",
       "      <td>7.2500</td>\n",
       "      <td>NaN</td>\n",
       "      <td>S</td>\n",
       "    </tr>\n",
       "    <tr>\n",
       "      <th>1</th>\n",
       "      <td>2</td>\n",
       "      <td>1</td>\n",
       "      <td>1</td>\n",
       "      <td>female</td>\n",
       "      <td>38.0</td>\n",
       "      <td>1</td>\n",
       "      <td>0</td>\n",
       "      <td>PC 17599</td>\n",
       "      <td>71.2833</td>\n",
       "      <td>C85</td>\n",
       "      <td>C</td>\n",
       "    </tr>\n",
       "    <tr>\n",
       "      <th>2</th>\n",
       "      <td>3</td>\n",
       "      <td>1</td>\n",
       "      <td>3</td>\n",
       "      <td>female</td>\n",
       "      <td>26.0</td>\n",
       "      <td>0</td>\n",
       "      <td>0</td>\n",
       "      <td>STON/O2. 3101282</td>\n",
       "      <td>7.9250</td>\n",
       "      <td>NaN</td>\n",
       "      <td>S</td>\n",
       "    </tr>\n",
       "    <tr>\n",
       "      <th>3</th>\n",
       "      <td>4</td>\n",
       "      <td>1</td>\n",
       "      <td>1</td>\n",
       "      <td>female</td>\n",
       "      <td>35.0</td>\n",
       "      <td>1</td>\n",
       "      <td>0</td>\n",
       "      <td>113803</td>\n",
       "      <td>53.1000</td>\n",
       "      <td>C123</td>\n",
       "      <td>S</td>\n",
       "    </tr>\n",
       "    <tr>\n",
       "      <th>4</th>\n",
       "      <td>5</td>\n",
       "      <td>0</td>\n",
       "      <td>3</td>\n",
       "      <td>male</td>\n",
       "      <td>35.0</td>\n",
       "      <td>0</td>\n",
       "      <td>0</td>\n",
       "      <td>373450</td>\n",
       "      <td>8.0500</td>\n",
       "      <td>NaN</td>\n",
       "      <td>S</td>\n",
       "    </tr>\n",
       "  </tbody>\n",
       "</table>\n",
       "</div>"
      ],
      "text/plain": [
       "   PassengerId  Survived  Pclass     Sex   Age  SibSp  Parch  \\\n",
       "0            1         0       3    male  22.0      1      0   \n",
       "1            2         1       1  female  38.0      1      0   \n",
       "2            3         1       3  female  26.0      0      0   \n",
       "3            4         1       1  female  35.0      1      0   \n",
       "4            5         0       3    male  35.0      0      0   \n",
       "\n",
       "             Ticket     Fare Cabin Embarked  \n",
       "0         A/5 21171   7.2500   NaN        S  \n",
       "1          PC 17599  71.2833   C85        C  \n",
       "2  STON/O2. 3101282   7.9250   NaN        S  \n",
       "3            113803  53.1000  C123        S  \n",
       "4            373450   8.0500   NaN        S  "
      ]
     },
     "execution_count": 5,
     "metadata": {},
     "output_type": "execute_result"
    }
   ],
   "source": [
    "titanic = pd.read_csv(\"./datasets/titanic_sub.csv\")\n",
    "titanic.head()"
   ]
  },
  {
   "cell_type": "markdown",
   "id": "f5b08b34-41b1-4b40-9e09-3fa2ef90a8c6",
   "metadata": {},
   "source": [
    "### Reading a text file"
   ]
  },
  {
   "cell_type": "code",
   "execution_count": 11,
   "id": "38433140-81d0-42db-9d34-d641c974d75e",
   "metadata": {},
   "outputs": [],
   "source": [
    "filename = './datasets/huck_finn.txt'\n",
    "file = open(filename, mode='r') # 'r' is to read\n",
    "text = file.read()\n",
    "file.close()"
   ]
  },
  {
   "cell_type": "markdown",
   "id": "986facac-bd97-4a54-992f-e2f063590401",
   "metadata": {},
   "source": [
    "### Printing a text file"
   ]
  },
  {
   "cell_type": "code",
   "execution_count": 12,
   "id": "f9239c2b-fba8-420e-b7cb-86a72b6fba2a",
   "metadata": {},
   "outputs": [
    {
     "name": "stdout",
     "output_type": "stream",
     "text": [
      "YOU don't know about me without you have read a book by\n",
      "the name of The Adventures of Tom Sawyer; but that\n",
      "ain't no matter. That book was made by Mr. Mark Twain,\n",
      "and he told the truth, mainly. There was things which\n",
      "he stretched, but mainly he told the truth. That is\n",
      "nothing. never seen anybody but lied one time or\n",
      "another, without it was Aunt Polly, or the widow, or\n",
      "maybe Mary. Aunt Polly--Tom's Aunt Polly, she is--and\n",
      "Mary, and the Widow Douglas is all told about in that\n",
      "book, which is mostly a true book, with some\n",
      "stretchers, as I said before.\n",
      "\n"
     ]
    }
   ],
   "source": [
    "print(text)"
   ]
  },
  {
   "cell_type": "markdown",
   "id": "e74c2fdc-6ec3-44cd-891a-2d056877e122",
   "metadata": {},
   "source": [
    "### Writing to a file"
   ]
  },
  {
   "cell_type": "code",
   "execution_count": 13,
   "id": "8e81d20d-d744-430a-b667-f2f47e51a057",
   "metadata": {},
   "outputs": [],
   "source": [
    "filename = 'huck_finn.txt'\n",
    "file = open(filename, mode='w') # 'w' is to write\n",
    "file.close()"
   ]
  },
  {
   "cell_type": "markdown",
   "id": "2781609e-4fe2-478d-8b71-ba37562b9ff5",
   "metadata": {},
   "source": [
    "### Context manager with"
   ]
  },
  {
   "cell_type": "code",
   "execution_count": 15,
   "id": "286f8e3b-1cfd-418a-9bac-829bb52b24c9",
   "metadata": {},
   "outputs": [
    {
     "name": "stdout",
     "output_type": "stream",
     "text": [
      "\n"
     ]
    }
   ],
   "source": [
    "with open('huck_finn.txt','r') as file:\n",
    "    print(file.read())"
   ]
  },
  {
   "cell_type": "markdown",
   "id": "fcdedf5b-ff47-4e84-9421-e9e18bfe173c",
   "metadata": {},
   "source": [
    "so far you have learned\n",
    "- Print files to the console\n",
    "- print specific lines\n",
    "- Discuss flat files\n",
    "\n",
    "### The importance of flat files in data science\n",
    "- Simple comma seperated files or any other format.\n",
    "- Have rows & columns that are easily converted in DataFrmed row's & column's.\n",
    "- Text files containning records\n",
    "- That is, table data\n",
    "- `Record`: row of fields or attributes\n",
    "- `Column`: feature or attributes\n",
    "- `Header`: contain meta data or data information.\n",
    "\n",
    "<img src=\"./media/flatfile_titanic.png\">"
   ]
  },
  {
   "cell_type": "markdown",
   "id": "1031e3e1-3e00-4d96-92a0-9564cd48a959",
   "metadata": {},
   "source": [
    "### File extension\n",
    "- `.csv` - Comma separated values\n",
    "- `.txt` - Text \n",
    "- commas, tabs- Delimiters"
   ]
  },
  {
   "cell_type": "markdown",
   "id": "aab71663-46a9-446a-ab1c-82ff5e456500",
   "metadata": {},
   "source": [
    "### Tab-delimited file\n",
    "\n",
    "<img src = \"./media/tab-delimiters.png\">"
   ]
  },
  {
   "cell_type": "markdown",
   "id": "dce50de0-fbbe-4304-b7ff-de219dc6bab5",
   "metadata": {},
   "source": [
    "### How do you import flat files?\n",
    "- Two main packages: NumPy, pandas\n",
    "\n",
    "<img src = \"./media/packages.png\">\n",
    "\n",
    "- Here, you’ll learn to import:\n",
    "    - Flat files with numericals data (MNIST)\n",
    "    - Flat files with numericals data & strings (titanics.csv)"
   ]
  },
  {
   "cell_type": "markdown",
   "id": "e4ee3c05-a064-4a36-8c2e-db8a48f42e75",
   "metadata": {},
   "source": [
    "### Importing flat files using NumPy\n",
    "#### Why NumPy?\n",
    "- NumPy arrays: standard for storing numerical data\n",
    "\n",
    "<img src = \"./media/numpy.png\">\n",
    "\n",
    "- Essential for other packages: e.g. scikit-learn\n",
    "\n",
    "<img src = \"./media/scikitlearn.png\">\n",
    "\n",
    "`loadtxt()`\n",
    "`genfromtxt()`"
   ]
  },
  {
   "cell_type": "code",
   "execution_count": 5,
   "id": "ee9df0d1-705e-4138-bc0d-d87c3402bd3a",
   "metadata": {},
   "outputs": [
    {
     "data": {
      "text/plain": [
       "array([[1., 0., 0., ..., 0., 0., 0.],\n",
       "       [0., 0., 0., ..., 0., 0., 0.],\n",
       "       [1., 0., 0., ..., 0., 0., 0.],\n",
       "       ...,\n",
       "       [2., 0., 0., ..., 0., 0., 0.],\n",
       "       [0., 0., 0., ..., 0., 0., 0.],\n",
       "       [5., 0., 0., ..., 0., 0., 0.]])"
      ]
     },
     "execution_count": 5,
     "metadata": {},
     "output_type": "execute_result"
    }
   ],
   "source": [
    "import numpy as np\n",
    "filename = './datasets/mnist_kaggle_some_rows.csv'\n",
    "data = np.loadtxt(filename, delimiter=',')\n",
    "data"
   ]
  },
  {
   "cell_type": "code",
   "execution_count": 9,
   "id": "81988b0f-26cc-46b4-8120-75577c11d25f",
   "metadata": {},
   "outputs": [
    {
     "name": "stdout",
     "output_type": "stream",
     "text": [
      "[[0. 0. 0. ... 0. 0. 0.]\n",
      " [1. 0. 0. ... 0. 0. 0.]\n",
      " [4. 0. 0. ... 0. 0. 0.]\n",
      " ...\n",
      " [2. 0. 0. ... 0. 0. 0.]\n",
      " [0. 0. 0. ... 0. 0. 0.]\n",
      " [5. 0. 0. ... 0. 0. 0.]]\n"
     ]
    }
   ],
   "source": [
    "# Customizing your NumPy import\n",
    "import numpy as np\n",
    "filename = './datasets/mnist_kaggle_some_rows.csv'\n",
    "data = np.loadtxt(filename, delimiter=',', skiprows=1)\n",
    "print(data)"
   ]
  },
  {
   "cell_type": "code",
   "execution_count": 10,
   "id": "c13bbc27-f442-40ec-a2e9-c4904ae8014b",
   "metadata": {},
   "outputs": [
    {
     "name": "stdout",
     "output_type": "stream",
     "text": [
      "[0. 1. 4. 0. 0. 7. 3. 5. 3. 8. 9. 1. 3. 3. 1. 2. 0. 7. 5. 8. 6. 2. 0. 2.\n",
      " 3. 6. 9. 9. 7. 8. 9. 4. 9. 2. 1. 3. 1. 1. 4. 9. 1. 4. 4. 2. 6. 3. 7. 7.\n",
      " 4. 7. 5. 1. 9. 0. 2. 2. 3. 9. 1. 1. 1. 5. 0. 6. 3. 4. 8. 1. 0. 3. 9. 6.\n",
      " 2. 6. 4. 7. 1. 4. 1. 5. 4. 8. 9. 2. 9. 9. 8. 9. 6. 3. 6. 4. 6. 2. 9. 1.\n",
      " 2. 0. 5.]\n"
     ]
    }
   ],
   "source": [
    "# Customizing your NumPy import\n",
    "import numpy as np\n",
    "filename = './datasets/mnist_kaggle_some_rows.csv'\n",
    "data = np.loadtxt(filename, delimiter=',', skiprows=1, usecols=[0])\n",
    "print(data)"
   ]
  },
  {
   "cell_type": "markdown",
   "id": "602188f1-e34b-4a46-88f9-2740feceabcb",
   "metadata": {},
   "source": [
    "`data = np.loadtxt(filename, delimiter=',', dtype=str)`"
   ]
  },
  {
   "cell_type": "markdown",
   "id": "e0b704cb-30fa-419a-bb74-b6743856081b",
   "metadata": {},
   "source": [
    "### Mixed datatypes\n",
    "<img src = \"./media/mixed_datatypes.png\">"
   ]
  },
  {
   "cell_type": "markdown",
   "id": "3d818974-d55b-4425-9cd1-7c0ba387254a",
   "metadata": {},
   "source": [
    "### Importing flat files using pandas\n",
    "#### What a data scientist needs\n",
    "- Two-dimensional labeled data structure(s)\n",
    "- Columns of potentially different types\n",
    "- Manipulate, slice, reshape, groupby, join, merge\n",
    "- Perform statistics\n",
    "- Work with time series data\n",
    "\n",
    "## Pandas and the DataFrame\n",
    "\n",
    "<img src= \"./media/about_pandas.png\">"
   ]
  },
  {
   "cell_type": "markdown",
   "id": "1c2630fc-3bd8-4cf9-8650-2d9324b463b6",
   "metadata": {},
   "source": [
    "### Manipulating pandas DataFrames\n",
    "- Exploratory data analysis\n",
    "- Data wrangling\n",
    "- Data preprocessing\n",
    "- Building models\n",
    "- Visualization\n",
    "- Standard and best practice to use pandas\n"
   ]
  },
  {
   "cell_type": "code",
   "execution_count": 13,
   "id": "d45d0666-ae91-4fa9-87e4-974e7e180824",
   "metadata": {},
   "outputs": [
    {
     "data": {
      "text/html": [
       "<div>\n",
       "<style scoped>\n",
       "    .dataframe tbody tr th:only-of-type {\n",
       "        vertical-align: middle;\n",
       "    }\n",
       "\n",
       "    .dataframe tbody tr th {\n",
       "        vertical-align: top;\n",
       "    }\n",
       "\n",
       "    .dataframe thead th {\n",
       "        text-align: right;\n",
       "    }\n",
       "</style>\n",
       "<table border=\"1\" class=\"dataframe\">\n",
       "  <thead>\n",
       "    <tr style=\"text-align: right;\">\n",
       "      <th></th>\n",
       "      <th>PassengerId</th>\n",
       "      <th>Survived</th>\n",
       "      <th>Pclass</th>\n",
       "      <th>Sex</th>\n",
       "      <th>Age</th>\n",
       "      <th>SibSp</th>\n",
       "      <th>Parch</th>\n",
       "      <th>Ticket</th>\n",
       "      <th>Fare</th>\n",
       "      <th>Cabin</th>\n",
       "      <th>Embarked</th>\n",
       "    </tr>\n",
       "  </thead>\n",
       "  <tbody>\n",
       "    <tr>\n",
       "      <th>0</th>\n",
       "      <td>1</td>\n",
       "      <td>0</td>\n",
       "      <td>3</td>\n",
       "      <td>male</td>\n",
       "      <td>22.0</td>\n",
       "      <td>1</td>\n",
       "      <td>0</td>\n",
       "      <td>A/5 21171</td>\n",
       "      <td>7.2500</td>\n",
       "      <td>NaN</td>\n",
       "      <td>S</td>\n",
       "    </tr>\n",
       "    <tr>\n",
       "      <th>1</th>\n",
       "      <td>2</td>\n",
       "      <td>1</td>\n",
       "      <td>1</td>\n",
       "      <td>female</td>\n",
       "      <td>38.0</td>\n",
       "      <td>1</td>\n",
       "      <td>0</td>\n",
       "      <td>PC 17599</td>\n",
       "      <td>71.2833</td>\n",
       "      <td>C85</td>\n",
       "      <td>C</td>\n",
       "    </tr>\n",
       "    <tr>\n",
       "      <th>2</th>\n",
       "      <td>3</td>\n",
       "      <td>1</td>\n",
       "      <td>3</td>\n",
       "      <td>female</td>\n",
       "      <td>26.0</td>\n",
       "      <td>0</td>\n",
       "      <td>0</td>\n",
       "      <td>STON/O2. 3101282</td>\n",
       "      <td>7.9250</td>\n",
       "      <td>NaN</td>\n",
       "      <td>S</td>\n",
       "    </tr>\n",
       "    <tr>\n",
       "      <th>3</th>\n",
       "      <td>4</td>\n",
       "      <td>1</td>\n",
       "      <td>1</td>\n",
       "      <td>female</td>\n",
       "      <td>35.0</td>\n",
       "      <td>1</td>\n",
       "      <td>0</td>\n",
       "      <td>113803</td>\n",
       "      <td>53.1000</td>\n",
       "      <td>C123</td>\n",
       "      <td>S</td>\n",
       "    </tr>\n",
       "    <tr>\n",
       "      <th>4</th>\n",
       "      <td>5</td>\n",
       "      <td>0</td>\n",
       "      <td>3</td>\n",
       "      <td>male</td>\n",
       "      <td>35.0</td>\n",
       "      <td>0</td>\n",
       "      <td>0</td>\n",
       "      <td>373450</td>\n",
       "      <td>8.0500</td>\n",
       "      <td>NaN</td>\n",
       "      <td>S</td>\n",
       "    </tr>\n",
       "  </tbody>\n",
       "</table>\n",
       "</div>"
      ],
      "text/plain": [
       "   PassengerId  Survived  Pclass     Sex   Age  SibSp  Parch  \\\n",
       "0            1         0       3    male  22.0      1      0   \n",
       "1            2         1       1  female  38.0      1      0   \n",
       "2            3         1       3  female  26.0      0      0   \n",
       "3            4         1       1  female  35.0      1      0   \n",
       "4            5         0       3    male  35.0      0      0   \n",
       "\n",
       "             Ticket     Fare Cabin Embarked  \n",
       "0         A/5 21171   7.2500   NaN        S  \n",
       "1          PC 17599  71.2833   C85        C  \n",
       "2  STON/O2. 3101282   7.9250   NaN        S  \n",
       "3            113803  53.1000  C123        S  \n",
       "4            373450   8.0500   NaN        S  "
      ]
     },
     "execution_count": 13,
     "metadata": {},
     "output_type": "execute_result"
    }
   ],
   "source": [
    "filename = './datasets/titanic_sub.csv'\n",
    "data = pd.read_csv(filename)\n",
    "data.head()"
   ]
  },
  {
   "cell_type": "code",
   "execution_count": 14,
   "id": "c4e5da61-8751-448a-8a4b-a17e7ef8c7d8",
   "metadata": {},
   "outputs": [
    {
     "data": {
      "text/plain": [
       "array([[1, 0, 3, ..., 7.25, nan, 'S'],\n",
       "       [2, 1, 1, ..., 71.2833, 'C85', 'C'],\n",
       "       [3, 1, 3, ..., 7.925, nan, 'S'],\n",
       "       ...,\n",
       "       [889, 0, 3, ..., 23.45, nan, 'S'],\n",
       "       [890, 1, 1, ..., 30.0, 'C148', 'C'],\n",
       "       [891, 0, 3, ..., 7.75, nan, 'Q']], dtype=object)"
      ]
     },
     "execution_count": 14,
     "metadata": {},
     "output_type": "execute_result"
    }
   ],
   "source": [
    "data.values"
   ]
  },
  {
   "cell_type": "markdown",
   "id": "dfdb580b-3086-4b6a-acbe-15c82182410e",
   "metadata": {},
   "source": [
    "You’ll experience:\n",
    "- Importing flat files in a straightforward manner\n",
    "- Importing flatfiles with issues such as comments and missing\n",
    "values"
   ]
  },
  {
   "cell_type": "markdown",
   "id": "bda25698-1c76-44c3-9282-59b332b4568e",
   "metadata": {},
   "source": [
    "### Next Chapter\n",
    "- Import other files types\n",
    "    - Excel, SAS, Stata\n",
    "- Feather\n",
    "<img src = \"./media/wes_post.png\">\n",
    "\n",
    "- Interact with relational databases"
   ]
  },
  {
   "cell_type": "code",
   "execution_count": null,
   "id": "0fd12737-c0fd-497e-a2df-03c2b5e17784",
   "metadata": {},
   "outputs": [],
   "source": []
  }
 ],
 "metadata": {
  "kernelspec": {
   "display_name": "Python 3 (ipykernel)",
   "language": "python",
   "name": "python3"
  },
  "language_info": {
   "codemirror_mode": {
    "name": "ipython",
    "version": 3
   },
   "file_extension": ".py",
   "mimetype": "text/x-python",
   "name": "python",
   "nbconvert_exporter": "python",
   "pygments_lexer": "ipython3",
   "version": "3.9.7"
  }
 },
 "nbformat": 4,
 "nbformat_minor": 5
}
