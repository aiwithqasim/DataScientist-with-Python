{
 "cells": [
  {
   "cell_type": "markdown",
   "id": "5ed98045-170e-4056-9275-14827e06a873",
   "metadata": {},
   "source": [
    "# Introduction to Importing Data in Python\n",
    "👋 Welcome to your workspace! Here, you can write and run Python code and add text in Markdown. All the data files from the course, Introduction to Importing Data in Python, can be found in the datasets/ directory. The course packages have already been imported for you below. This is your sandbox environment: analyze the course datasets further, take notes, or experiment with code!"
   ]
  },
  {
   "cell_type": "code",
   "execution_count": 2,
   "id": "9e069c46-6ff3-4169-af57-363df667fb52",
   "metadata": {},
   "outputs": [],
   "source": [
    "# Importing course packages; you can add more too!\n",
    "import pandas as pd\n",
    "import numpy as np\n",
    "import matplotlib.pyplot as plt\n",
    "import scipy.io\n",
    "import h5py\n",
    "from sas7bdat import SAS7BDAT\n",
    "from sqlalchemy import create_engine\n",
    "import pickle"
   ]
  },
  {
   "cell_type": "markdown",
   "id": "b3248213-8e91-4612-a765-6ad21c03ecb8",
   "metadata": {},
   "source": [
    "### Don't know where to start?\n",
    "\n",
    "There are nine data files in the `datasets/` directory of varying kinds: `battledeath.xlsx`, `Chinook.sqlite`, `disarea.dta`, `ja_data2.mat`, `L-L1_LOSC_4_V1-1126259446-32.hdf5`, `mnist_kaggle_some_rows.csv`, `sales.sas7bdat`, `seaslug.txt`, and `titanic_sub.csv`. \n",
    "\n",
    "Import each of these files into a format useful for data analysis in Python. "
   ]
  },
  {
   "cell_type": "markdown",
   "id": "21195698-95d8-4cda-b092-1c1b6480a671",
   "metadata": {},
   "source": [
    "### *`Introduction to other file types`*\n",
    "-  spreadsheets\n",
    "- MATLAB files\n",
    "- SAS files\n",
    "- Stata files\n",
    "- HDFS files"
   ]
  },
  {
   "cell_type": "markdown",
   "id": "2dc0ac99-f82e-427d-80ee-3826b8329582",
   "metadata": {},
   "source": [
    "### Pickled files\n",
    "\n",
    "- File type native to Python\n",
    "- `Motivation`: many datatypes for which it isn’t obvious how to store them\n",
    "- Pickled files are serialized\n",
    "- Serialize = convert object to bytestream\n"
   ]
  },
  {
   "cell_type": "code",
   "execution_count": null,
   "id": "00c6d391-e100-4574-8bc0-636e222da4f8",
   "metadata": {},
   "outputs": [],
   "source": [
    "import pickle\n",
    "with open('pickled_fruit.pkl','rb') as file:\n",
    "data = pickle.load(file)\n",
    "print(data)"
   ]
  }
 ],
 "metadata": {
  "kernelspec": {
   "display_name": "Python 3 (ipykernel)",
   "language": "python",
   "name": "python3"
  },
  "language_info": {
   "codemirror_mode": {
    "name": "ipython",
    "version": 3
   },
   "file_extension": ".py",
   "mimetype": "text/x-python",
   "name": "python",
   "nbconvert_exporter": "python",
   "pygments_lexer": "ipython3",
   "version": "3.9.7"
  }
 },
 "nbformat": 4,
 "nbformat_minor": 5
}
