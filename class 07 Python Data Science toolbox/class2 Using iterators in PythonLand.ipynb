{
 "cells": [
  {
   "cell_type": "markdown",
   "id": "25f59bc3",
   "metadata": {},
   "source": [
    "# **`1-Using iterators in PythonLand`**"
   ]
  },
  {
   "cell_type": "markdown",
   "id": "287dd742",
   "metadata": {},
   "source": [
    "# **`1.1- Introduction to iterators`**"
   ]
  },
  {
   "cell_type": "markdown",
   "id": "7ccf76d9",
   "metadata": {},
   "source": [
    "#### Iterating with a for loop\n",
    "- We can iterate over a list using a for loop"
   ]
  },
  {
   "cell_type": "code",
   "execution_count": 2,
   "id": "9462d610",
   "metadata": {},
   "outputs": [
    {
     "name": "stdout",
     "output_type": "stream",
     "text": [
      "Qasim\n",
      "Hassan\n",
      "Muneeb\n"
     ]
    }
   ],
   "source": [
    "employees = ['Qasim','Hassan','Muneeb']\n",
    "for employee in employees:\n",
    "    print(employee)"
   ]
  },
  {
   "cell_type": "markdown",
   "id": "1a4e8282",
   "metadata": {},
   "source": [
    "- We can iterate over a string using a for loop"
   ]
  },
  {
   "cell_type": "code",
   "execution_count": 3,
   "id": "d7dd529f",
   "metadata": {},
   "outputs": [
    {
     "name": "stdout",
     "output_type": "stream",
     "text": [
      "D\n",
      "a\n",
      "t\n",
      "a\n",
      "C\n",
      "a\n",
      "m\n",
      "p\n"
     ]
    }
   ],
   "source": [
    "for letter in 'DataCamp':\n",
    "    print(letter)"
   ]
  },
  {
   "cell_type": "markdown",
   "id": "de458710",
   "metadata": {},
   "source": [
    "- We can iterate over a range object using a for loop"
   ]
  },
  {
   "cell_type": "code",
   "execution_count": 4,
   "id": "545f5c21",
   "metadata": {},
   "outputs": [
    {
     "name": "stdout",
     "output_type": "stream",
     "text": [
      "0\n",
      "1\n",
      "2\n",
      "3\n"
     ]
    }
   ],
   "source": [
    "for i in range(4):\n",
    "    print(i)"
   ]
  },
  {
   "cell_type": "markdown",
   "id": "2ae684a6",
   "metadata": {},
   "source": [
    "### Iterators vs. iterables\n",
    "##### Iterable\n",
    "- Examples: lists, strings, dictionaries, file connnections\n",
    "- An object with an associated `iter()` method\n",
    "- Applying `iter()` to an iterable creates an iterator\n",
    "    \n",
    "##### Iterator\n",
    "- Produces next value with `next()`"
   ]
  },
  {
   "cell_type": "markdown",
   "id": "a302cf35",
   "metadata": {},
   "source": [
    "### Iterating over iterables: `next()`"
   ]
  },
  {
   "cell_type": "code",
   "execution_count": 5,
   "id": "d5157534",
   "metadata": {},
   "outputs": [
    {
     "data": {
      "text/plain": [
       "'D'"
      ]
     },
     "execution_count": 5,
     "metadata": {},
     "output_type": "execute_result"
    }
   ],
   "source": [
    "word = 'Da'\n",
    "it = iter(word)\n",
    "next(it)"
   ]
  },
  {
   "cell_type": "code",
   "execution_count": 6,
   "id": "0e8bb621",
   "metadata": {},
   "outputs": [
    {
     "data": {
      "text/plain": [
       "'a'"
      ]
     },
     "execution_count": 6,
     "metadata": {},
     "output_type": "execute_result"
    }
   ],
   "source": [
    "next(it)"
   ]
  },
  {
   "cell_type": "code",
   "execution_count": 8,
   "id": "a39cf8b2",
   "metadata": {},
   "outputs": [
    {
     "ename": "StopIteration",
     "evalue": "",
     "output_type": "error",
     "traceback": [
      "\u001b[1;31m---------------------------------------------------------------------------\u001b[0m",
      "\u001b[1;31mStopIteration\u001b[0m                             Traceback (most recent call last)",
      "\u001b[1;32m<ipython-input-8-c6f05272dbc9>\u001b[0m in \u001b[0;36m<module>\u001b[1;34m\u001b[0m\n\u001b[1;32m----> 1\u001b[1;33m \u001b[0mnext\u001b[0m\u001b[1;33m(\u001b[0m\u001b[0mit\u001b[0m\u001b[1;33m)\u001b[0m \u001b[1;31m# B/c String finish\u001b[0m\u001b[1;33m\u001b[0m\u001b[1;33m\u001b[0m\u001b[0m\n\u001b[0m",
      "\u001b[1;31mStopIteration\u001b[0m: "
     ]
    }
   ],
   "source": [
    "next(it) # B/c String finish"
   ]
  },
  {
   "cell_type": "markdown",
   "id": "036f046b",
   "metadata": {},
   "source": [
    "### Iterating at once with *"
   ]
  },
  {
   "cell_type": "code",
   "execution_count": 9,
   "id": "729a0ca9",
   "metadata": {},
   "outputs": [
    {
     "name": "stdout",
     "output_type": "stream",
     "text": [
      "D a t a\n"
     ]
    }
   ],
   "source": [
    "word = 'Data'\n",
    "it = iter(word)\n",
    "print(*it)"
   ]
  },
  {
   "cell_type": "code",
   "execution_count": 11,
   "id": "4b88b936",
   "metadata": {},
   "outputs": [
    {
     "name": "stdout",
     "output_type": "stream",
     "text": [
      "\n"
     ]
    }
   ],
   "source": [
    "print(*it) # Will print Nothing B/c No more values to go through!"
   ]
  },
  {
   "cell_type": "markdown",
   "id": "5118c25c",
   "metadata": {},
   "source": [
    "### Iterating over dictionaries"
   ]
  },
  {
   "cell_type": "code",
   "execution_count": 15,
   "id": "5ddecba3",
   "metadata": {},
   "outputs": [
    {
     "name": "stdout",
     "output_type": "stream",
     "text": [
      "Qasim S/O Hassan\n",
      "Ammad S/O Mohsin\n"
     ]
    }
   ],
   "source": [
    "pythonistas = {'Qasim': 'Hassan','Ammad': 'Mohsin'}\n",
    "for key, value in pythonistas.items():\n",
    "    print(key+\" S/O \"+ value)"
   ]
  },
  {
   "cell_type": "markdown",
   "id": "74a0ded1",
   "metadata": {},
   "source": [
    "### Iterating over file connections"
   ]
  },
  {
   "cell_type": "code",
   "execution_count": 20,
   "id": "a84cf04e",
   "metadata": {},
   "outputs": [
    {
     "name": "stdout",
     "output_type": "stream",
     "text": [
      "Hi, You're learning Python Data Science Toolbox.\n",
      "\n"
     ]
    }
   ],
   "source": [
    "file = open('./datasets/file.txt')\n",
    "it = iter(file)\n",
    "print(next(it))"
   ]
  },
  {
   "cell_type": "code",
   "execution_count": 21,
   "id": "f2a1d075",
   "metadata": {},
   "outputs": [
    {
     "name": "stdout",
     "output_type": "stream",
     "text": [
      "This is the Second line & you're going really great.\n"
     ]
    }
   ],
   "source": [
    "print(next(it))"
   ]
  },
  {
   "cell_type": "markdown",
   "id": "6ef59353",
   "metadata": {},
   "source": [
    "# **`1.2- Playing with iterators`**"
   ]
  },
  {
   "cell_type": "markdown",
   "id": "41ee4d90",
   "metadata": {},
   "source": [
    "### Using enumerate()"
   ]
  },
  {
   "cell_type": "code",
   "execution_count": 22,
   "id": "cbb24b67",
   "metadata": {},
   "outputs": [
    {
     "name": "stdout",
     "output_type": "stream",
     "text": [
      "<class 'enumerate'>\n"
     ]
    }
   ],
   "source": [
    "avengers = ['hawkeye','iron man','thor','quicksilver']\n",
    "e = enumerate(avengers)\n",
    "print(type(e))"
   ]
  },
  {
   "cell_type": "code",
   "execution_count": 23,
   "id": "0b677301",
   "metadata": {},
   "outputs": [
    {
     "name": "stdout",
     "output_type": "stream",
     "text": [
      "[(0, 'hawkeye'), (1, 'iron man'), (2, 'thor'), (3, 'quicksilver')]\n"
     ]
    }
   ],
   "source": [
    "e_list = list(e)\n",
    "print(e_list)"
   ]
  },
  {
   "cell_type": "markdown",
   "id": "47261bc9",
   "metadata": {},
   "source": [
    "### enumerate() and unpack"
   ]
  },
  {
   "cell_type": "code",
   "execution_count": 29,
   "id": "520c34e0",
   "metadata": {},
   "outputs": [
    {
     "name": "stdout",
     "output_type": "stream",
     "text": [
      "Index no:0 have HAWKEYE\n",
      "Index no:1 have IRON MAN\n",
      "Index no:2 have THOR\n",
      "Index no:3 have QUICKSILVER\n"
     ]
    }
   ],
   "source": [
    "avengers = ['hawkeye','iron man','thor','quicksilver']\n",
    "for index, name in enumerate(avengers):\n",
    "    print(\"Index no:\"+str(index)+ \" have \"+name.upper())"
   ]
  },
  {
   "cell_type": "code",
   "execution_count": 30,
   "id": "30311adf",
   "metadata": {},
   "outputs": [
    {
     "name": "stdout",
     "output_type": "stream",
     "text": [
      "Index no:10 have HAWKEYE\n",
      "Index no:11 have IRON MAN\n",
      "Index no:12 have THOR\n",
      "Index no:13 have QUICKSILVER\n"
     ]
    }
   ],
   "source": [
    "avengers = ['hawkeye','iron man','thor','quicksilver']\n",
    "for index, name in enumerate(avengers, start=10):\n",
    "    print(\"Index no:\"+str(index)+ \" have \"+name.upper())"
   ]
  },
  {
   "cell_type": "markdown",
   "id": "2f7ecf7c",
   "metadata": {},
   "source": [
    "### Using zip()"
   ]
  },
  {
   "cell_type": "code",
   "execution_count": 31,
   "id": "9f02fd4b",
   "metadata": {},
   "outputs": [
    {
     "name": "stdout",
     "output_type": "stream",
     "text": [
      "<class 'zip'>\n"
     ]
    }
   ],
   "source": [
    "avengers = ['hawkeye','iron man','thor','quicksilver']\n",
    "names = ['barton','stark','odinson','maximoff']\n",
    "z = zip(avengers, names)\n",
    "print(type(z))"
   ]
  },
  {
   "cell_type": "code",
   "execution_count": 32,
   "id": "8dad2eb8",
   "metadata": {},
   "outputs": [
    {
     "name": "stdout",
     "output_type": "stream",
     "text": [
      "[('hawkeye', 'barton'), ('iron man', 'stark'), ('thor', 'odinson'), ('quicksilver', 'maximoff')]\n"
     ]
    }
   ],
   "source": [
    "print(list(z))"
   ]
  },
  {
   "cell_type": "markdown",
   "id": "2fbf0460",
   "metadata": {},
   "source": [
    "### `zip()` and unpack"
   ]
  },
  {
   "cell_type": "code",
   "execution_count": 42,
   "id": "5bbb403a",
   "metadata": {},
   "outputs": [
    {
     "name": "stdout",
     "output_type": "stream",
     "text": [
      "HAWKEYE <-- real name --> BARTON \n",
      "IRON MAN <-- real name --> STARK \n",
      "THOR <-- real name --> ODINSON \n",
      "QUICKSILVER <-- real name --> MAXIMOFF \n"
     ]
    }
   ],
   "source": [
    "avengers = ['hawkeye','iron man','thor','quicksilver']\n",
    "names = ['barton','stark','odinson','maximoff']\n",
    "\n",
    "for z1, z2 in zip(avengers, names):\n",
    "    print(f\"{z1.upper()} <-- real name --> {z2.upper()} \")"
   ]
  },
  {
   "cell_type": "markdown",
   "id": "bf2f965e",
   "metadata": {},
   "source": [
    "### Print zip with *"
   ]
  },
  {
   "cell_type": "code",
   "execution_count": 43,
   "id": "8f76b5db",
   "metadata": {},
   "outputs": [
    {
     "name": "stdout",
     "output_type": "stream",
     "text": [
      "('hawkeye', 'barton') ('iron man', 'stark') ('thor', 'odinson') ('quicksilver', 'maximoff')\n"
     ]
    }
   ],
   "source": [
    "avengers = ['hawkeye','iron man','thor','quicksilver']\n",
    "names = ['barton','stark','odinson','maximoff']\n",
    "z = zip(avengers, names)\n",
    "print(*z)"
   ]
  },
  {
   "cell_type": "markdown",
   "id": "14323bc1",
   "metadata": {},
   "source": [
    "# **`1.3- Using iterators to load large files into memory`**\n",
    "\n",
    "### Loading data in chunks\n",
    "- There can be too much data to hold in memory\n",
    "- Solution: load data in chunks!\n",
    "- Pandas function: `read_csv()`\n",
    "    - Specify the chunk: `chunk_size`\n"
   ]
  },
  {
   "cell_type": "markdown",
   "id": "9ca74c00",
   "metadata": {},
   "source": [
    "## Iterating over data"
   ]
  },
  {
   "cell_type": "code",
   "execution_count": 52,
   "id": "523f6e91",
   "metadata": {},
   "outputs": [
    {
     "data": {
      "text/html": [
       "<div>\n",
       "<style scoped>\n",
       "    .dataframe tbody tr th:only-of-type {\n",
       "        vertical-align: middle;\n",
       "    }\n",
       "\n",
       "    .dataframe tbody tr th {\n",
       "        vertical-align: top;\n",
       "    }\n",
       "\n",
       "    .dataframe thead th {\n",
       "        text-align: right;\n",
       "    }\n",
       "</style>\n",
       "<table border=\"1\" class=\"dataframe\">\n",
       "  <thead>\n",
       "    <tr style=\"text-align: right;\">\n",
       "      <th></th>\n",
       "      <th>contributors</th>\n",
       "      <th>coordinates</th>\n",
       "      <th>created_at</th>\n",
       "      <th>entities</th>\n",
       "      <th>extended_entities</th>\n",
       "      <th>favorite_count</th>\n",
       "      <th>favorited</th>\n",
       "      <th>filter_level</th>\n",
       "      <th>geo</th>\n",
       "      <th>id</th>\n",
       "      <th>...</th>\n",
       "      <th>quoted_status_id</th>\n",
       "      <th>quoted_status_id_str</th>\n",
       "      <th>retweet_count</th>\n",
       "      <th>retweeted</th>\n",
       "      <th>retweeted_status</th>\n",
       "      <th>source</th>\n",
       "      <th>text</th>\n",
       "      <th>timestamp_ms</th>\n",
       "      <th>truncated</th>\n",
       "      <th>user</th>\n",
       "    </tr>\n",
       "  </thead>\n",
       "  <tbody>\n",
       "    <tr>\n",
       "      <th>0</th>\n",
       "      <td>NaN</td>\n",
       "      <td>NaN</td>\n",
       "      <td>Tue Mar 29 23:40:17 +0000 2016</td>\n",
       "      <td>{'hashtags': [], 'user_mentions': [{'screen_na...</td>\n",
       "      <td>{'media': [{'sizes': {'large': {'w': 1024, 'h'...</td>\n",
       "      <td>0</td>\n",
       "      <td>False</td>\n",
       "      <td>low</td>\n",
       "      <td>NaN</td>\n",
       "      <td>714960401759387648</td>\n",
       "      <td>...</td>\n",
       "      <td>NaN</td>\n",
       "      <td>NaN</td>\n",
       "      <td>0</td>\n",
       "      <td>False</td>\n",
       "      <td>{'retweeted': False, 'text': \".@krollbondratin...</td>\n",
       "      <td>&lt;a href=\"http://twitter.com\" rel=\"nofollow\"&gt;Tw...</td>\n",
       "      <td>RT @bpolitics: .@krollbondrating's Christopher...</td>\n",
       "      <td>1459294817758</td>\n",
       "      <td>False</td>\n",
       "      <td>{'utc_offset': 3600, 'profile_image_url_https'...</td>\n",
       "    </tr>\n",
       "    <tr>\n",
       "      <th>1</th>\n",
       "      <td>NaN</td>\n",
       "      <td>NaN</td>\n",
       "      <td>Tue Mar 29 23:40:17 +0000 2016</td>\n",
       "      <td>{'hashtags': [{'text': 'cruzsexscandal', 'indi...</td>\n",
       "      <td>{'media': [{'sizes': {'large': {'w': 500, 'h':...</td>\n",
       "      <td>0</td>\n",
       "      <td>False</td>\n",
       "      <td>low</td>\n",
       "      <td>NaN</td>\n",
       "      <td>714960401977319424</td>\n",
       "      <td>...</td>\n",
       "      <td>NaN</td>\n",
       "      <td>NaN</td>\n",
       "      <td>0</td>\n",
       "      <td>False</td>\n",
       "      <td>{'retweeted': False, 'text': '@dmartosko Cruz ...</td>\n",
       "      <td>&lt;a href=\"http://twitter.com\" rel=\"nofollow\"&gt;Tw...</td>\n",
       "      <td>RT @HeidiAlpine: @dmartosko Cruz video found.....</td>\n",
       "      <td>1459294817810</td>\n",
       "      <td>False</td>\n",
       "      <td>{'utc_offset': None, 'profile_image_url_https'...</td>\n",
       "    </tr>\n",
       "    <tr>\n",
       "      <th>2</th>\n",
       "      <td>NaN</td>\n",
       "      <td>NaN</td>\n",
       "      <td>Tue Mar 29 23:40:17 +0000 2016</td>\n",
       "      <td>{'hashtags': [], 'user_mentions': [], 'symbols...</td>\n",
       "      <td>NaN</td>\n",
       "      <td>0</td>\n",
       "      <td>False</td>\n",
       "      <td>low</td>\n",
       "      <td>NaN</td>\n",
       "      <td>714960402426236928</td>\n",
       "      <td>...</td>\n",
       "      <td>NaN</td>\n",
       "      <td>NaN</td>\n",
       "      <td>0</td>\n",
       "      <td>False</td>\n",
       "      <td>NaN</td>\n",
       "      <td>&lt;a href=\"http://www.facebook.com/twitter\" rel=...</td>\n",
       "      <td>Njihuni me Zonjën Trump !!! | Ekskluzive https...</td>\n",
       "      <td>1459294817917</td>\n",
       "      <td>False</td>\n",
       "      <td>{'utc_offset': 7200, 'profile_image_url_https'...</td>\n",
       "    </tr>\n",
       "    <tr>\n",
       "      <th>3</th>\n",
       "      <td>NaN</td>\n",
       "      <td>NaN</td>\n",
       "      <td>Tue Mar 29 23:40:17 +0000 2016</td>\n",
       "      <td>{'hashtags': [], 'user_mentions': [], 'symbols...</td>\n",
       "      <td>NaN</td>\n",
       "      <td>0</td>\n",
       "      <td>False</td>\n",
       "      <td>low</td>\n",
       "      <td>NaN</td>\n",
       "      <td>714960402367561730</td>\n",
       "      <td>...</td>\n",
       "      <td>7.149239e+17</td>\n",
       "      <td>7.149239e+17</td>\n",
       "      <td>0</td>\n",
       "      <td>False</td>\n",
       "      <td>NaN</td>\n",
       "      <td>&lt;a href=\"http://twitter.com/download/android\" ...</td>\n",
       "      <td>Your an idiot she shouldn't have tried to grab...</td>\n",
       "      <td>1459294817903</td>\n",
       "      <td>False</td>\n",
       "      <td>{'utc_offset': None, 'profile_image_url_https'...</td>\n",
       "    </tr>\n",
       "    <tr>\n",
       "      <th>4</th>\n",
       "      <td>NaN</td>\n",
       "      <td>NaN</td>\n",
       "      <td>Tue Mar 29 23:40:17 +0000 2016</td>\n",
       "      <td>{'hashtags': [], 'user_mentions': [{'screen_na...</td>\n",
       "      <td>NaN</td>\n",
       "      <td>0</td>\n",
       "      <td>False</td>\n",
       "      <td>low</td>\n",
       "      <td>NaN</td>\n",
       "      <td>714960402149416960</td>\n",
       "      <td>...</td>\n",
       "      <td>NaN</td>\n",
       "      <td>NaN</td>\n",
       "      <td>0</td>\n",
       "      <td>False</td>\n",
       "      <td>{'retweeted': False, 'text': 'The anti-America...</td>\n",
       "      <td>&lt;a href=\"http://twitter.com/download/iphone\" r...</td>\n",
       "      <td>RT @AlanLohner: The anti-American D.C. elites ...</td>\n",
       "      <td>1459294817851</td>\n",
       "      <td>False</td>\n",
       "      <td>{'utc_offset': -18000, 'profile_image_url_http...</td>\n",
       "    </tr>\n",
       "    <tr>\n",
       "      <th>5</th>\n",
       "      <td>NaN</td>\n",
       "      <td>NaN</td>\n",
       "      <td>Tue Mar 29 23:40:17 +0000 2016</td>\n",
       "      <td>{'hashtags': [], 'user_mentions': [{'screen_na...</td>\n",
       "      <td>NaN</td>\n",
       "      <td>0</td>\n",
       "      <td>False</td>\n",
       "      <td>low</td>\n",
       "      <td>NaN</td>\n",
       "      <td>714960401759412224</td>\n",
       "      <td>...</td>\n",
       "      <td>NaN</td>\n",
       "      <td>NaN</td>\n",
       "      <td>0</td>\n",
       "      <td>False</td>\n",
       "      <td>{'retweeted': False, 'lang': 'en', 'favorite_c...</td>\n",
       "      <td>&lt;a href=\"http://twitter.com/download/iphone\" r...</td>\n",
       "      <td>RT @BIackPplTweets: Young Donald trump meets h...</td>\n",
       "      <td>1459294817758</td>\n",
       "      <td>False</td>\n",
       "      <td>{'utc_offset': None, 'profile_image_url_https'...</td>\n",
       "    </tr>\n",
       "    <tr>\n",
       "      <th>6</th>\n",
       "      <td>NaN</td>\n",
       "      <td>NaN</td>\n",
       "      <td>Tue Mar 29 23:40:18 +0000 2016</td>\n",
       "      <td>{'hashtags': [], 'user_mentions': [{'screen_na...</td>\n",
       "      <td>NaN</td>\n",
       "      <td>0</td>\n",
       "      <td>False</td>\n",
       "      <td>low</td>\n",
       "      <td>NaN</td>\n",
       "      <td>714960402791145472</td>\n",
       "      <td>...</td>\n",
       "      <td>NaN</td>\n",
       "      <td>NaN</td>\n",
       "      <td>0</td>\n",
       "      <td>False</td>\n",
       "      <td>{'retweeted': False, 'lang': 'en', 'favorite_c...</td>\n",
       "      <td>&lt;a href=\"http://twitter.com\" rel=\"nofollow\"&gt;Tw...</td>\n",
       "      <td>RT @trumpresearch: @WaitingInBagdad @thehill T...</td>\n",
       "      <td>1459294818004</td>\n",
       "      <td>False</td>\n",
       "      <td>{'utc_offset': 10800, 'profile_image_url_https...</td>\n",
       "    </tr>\n",
       "    <tr>\n",
       "      <th>7</th>\n",
       "      <td>NaN</td>\n",
       "      <td>NaN</td>\n",
       "      <td>Tue Mar 29 23:40:17 +0000 2016</td>\n",
       "      <td>{'hashtags': [], 'user_mentions': [{'screen_na...</td>\n",
       "      <td>NaN</td>\n",
       "      <td>0</td>\n",
       "      <td>False</td>\n",
       "      <td>low</td>\n",
       "      <td>NaN</td>\n",
       "      <td>714960402346598400</td>\n",
       "      <td>...</td>\n",
       "      <td>NaN</td>\n",
       "      <td>NaN</td>\n",
       "      <td>0</td>\n",
       "      <td>False</td>\n",
       "      <td>{'retweeted': False, 'lang': 'en', 'favorite_c...</td>\n",
       "      <td>&lt;a href=\"http://twitter.com/download/android\" ...</td>\n",
       "      <td>RT @HouseCracka: 29,000+ PEOPLE WATCHING TRUMP...</td>\n",
       "      <td>1459294817898</td>\n",
       "      <td>False</td>\n",
       "      <td>{'utc_offset': None, 'profile_image_url_https'...</td>\n",
       "    </tr>\n",
       "    <tr>\n",
       "      <th>8</th>\n",
       "      <td>NaN</td>\n",
       "      <td>NaN</td>\n",
       "      <td>Tue Mar 29 23:40:18 +0000 2016</td>\n",
       "      <td>{'hashtags': [], 'user_mentions': [{'screen_na...</td>\n",
       "      <td>{'media': [{'sizes': {'large': {'w': 384, 'h':...</td>\n",
       "      <td>0</td>\n",
       "      <td>False</td>\n",
       "      <td>low</td>\n",
       "      <td>NaN</td>\n",
       "      <td>714960402849927168</td>\n",
       "      <td>...</td>\n",
       "      <td>NaN</td>\n",
       "      <td>NaN</td>\n",
       "      <td>0</td>\n",
       "      <td>False</td>\n",
       "      <td>{'retweeted': False, 'text': 'RT for Brendon U...</td>\n",
       "      <td>&lt;a href=\"http://twitter.com/download/iphone\" r...</td>\n",
       "      <td>RT @urfavandtrump: RT for Brendon Urie\\nFav fo...</td>\n",
       "      <td>1459294818018</td>\n",
       "      <td>False</td>\n",
       "      <td>{'utc_offset': None, 'profile_image_url_https'...</td>\n",
       "    </tr>\n",
       "    <tr>\n",
       "      <th>9</th>\n",
       "      <td>NaN</td>\n",
       "      <td>NaN</td>\n",
       "      <td>Tue Mar 29 23:40:18 +0000 2016</td>\n",
       "      <td>{'hashtags': [{'text': 'Trump', 'indices': [34...</td>\n",
       "      <td>{'media': [{'sizes': {'large': {'w': 573, 'h':...</td>\n",
       "      <td>0</td>\n",
       "      <td>False</td>\n",
       "      <td>low</td>\n",
       "      <td>NaN</td>\n",
       "      <td>714960402853928960</td>\n",
       "      <td>...</td>\n",
       "      <td>NaN</td>\n",
       "      <td>NaN</td>\n",
       "      <td>0</td>\n",
       "      <td>False</td>\n",
       "      <td>{'retweeted': False, 'text': 'This is how I se...</td>\n",
       "      <td>&lt;a href=\"http://twitter.com/download/iphone\" r...</td>\n",
       "      <td>RT @trapgrampa: This is how I see #Trump every...</td>\n",
       "      <td>1459294818019</td>\n",
       "      <td>False</td>\n",
       "      <td>{'utc_offset': None, 'profile_image_url_https'...</td>\n",
       "    </tr>\n",
       "  </tbody>\n",
       "</table>\n",
       "<p>10 rows × 31 columns</p>\n",
       "</div>"
      ],
      "text/plain": [
       "   contributors  coordinates                      created_at  \\\n",
       "0           NaN          NaN  Tue Mar 29 23:40:17 +0000 2016   \n",
       "1           NaN          NaN  Tue Mar 29 23:40:17 +0000 2016   \n",
       "2           NaN          NaN  Tue Mar 29 23:40:17 +0000 2016   \n",
       "3           NaN          NaN  Tue Mar 29 23:40:17 +0000 2016   \n",
       "4           NaN          NaN  Tue Mar 29 23:40:17 +0000 2016   \n",
       "5           NaN          NaN  Tue Mar 29 23:40:17 +0000 2016   \n",
       "6           NaN          NaN  Tue Mar 29 23:40:18 +0000 2016   \n",
       "7           NaN          NaN  Tue Mar 29 23:40:17 +0000 2016   \n",
       "8           NaN          NaN  Tue Mar 29 23:40:18 +0000 2016   \n",
       "9           NaN          NaN  Tue Mar 29 23:40:18 +0000 2016   \n",
       "\n",
       "                                            entities  \\\n",
       "0  {'hashtags': [], 'user_mentions': [{'screen_na...   \n",
       "1  {'hashtags': [{'text': 'cruzsexscandal', 'indi...   \n",
       "2  {'hashtags': [], 'user_mentions': [], 'symbols...   \n",
       "3  {'hashtags': [], 'user_mentions': [], 'symbols...   \n",
       "4  {'hashtags': [], 'user_mentions': [{'screen_na...   \n",
       "5  {'hashtags': [], 'user_mentions': [{'screen_na...   \n",
       "6  {'hashtags': [], 'user_mentions': [{'screen_na...   \n",
       "7  {'hashtags': [], 'user_mentions': [{'screen_na...   \n",
       "8  {'hashtags': [], 'user_mentions': [{'screen_na...   \n",
       "9  {'hashtags': [{'text': 'Trump', 'indices': [34...   \n",
       "\n",
       "                                   extended_entities  favorite_count  \\\n",
       "0  {'media': [{'sizes': {'large': {'w': 1024, 'h'...               0   \n",
       "1  {'media': [{'sizes': {'large': {'w': 500, 'h':...               0   \n",
       "2                                                NaN               0   \n",
       "3                                                NaN               0   \n",
       "4                                                NaN               0   \n",
       "5                                                NaN               0   \n",
       "6                                                NaN               0   \n",
       "7                                                NaN               0   \n",
       "8  {'media': [{'sizes': {'large': {'w': 384, 'h':...               0   \n",
       "9  {'media': [{'sizes': {'large': {'w': 573, 'h':...               0   \n",
       "\n",
       "   favorited filter_level  geo                  id  ...  quoted_status_id  \\\n",
       "0      False          low  NaN  714960401759387648  ...               NaN   \n",
       "1      False          low  NaN  714960401977319424  ...               NaN   \n",
       "2      False          low  NaN  714960402426236928  ...               NaN   \n",
       "3      False          low  NaN  714960402367561730  ...      7.149239e+17   \n",
       "4      False          low  NaN  714960402149416960  ...               NaN   \n",
       "5      False          low  NaN  714960401759412224  ...               NaN   \n",
       "6      False          low  NaN  714960402791145472  ...               NaN   \n",
       "7      False          low  NaN  714960402346598400  ...               NaN   \n",
       "8      False          low  NaN  714960402849927168  ...               NaN   \n",
       "9      False          low  NaN  714960402853928960  ...               NaN   \n",
       "\n",
       "   quoted_status_id_str  retweet_count  retweeted  \\\n",
       "0                   NaN              0      False   \n",
       "1                   NaN              0      False   \n",
       "2                   NaN              0      False   \n",
       "3          7.149239e+17              0      False   \n",
       "4                   NaN              0      False   \n",
       "5                   NaN              0      False   \n",
       "6                   NaN              0      False   \n",
       "7                   NaN              0      False   \n",
       "8                   NaN              0      False   \n",
       "9                   NaN              0      False   \n",
       "\n",
       "                                    retweeted_status  \\\n",
       "0  {'retweeted': False, 'text': \".@krollbondratin...   \n",
       "1  {'retweeted': False, 'text': '@dmartosko Cruz ...   \n",
       "2                                                NaN   \n",
       "3                                                NaN   \n",
       "4  {'retweeted': False, 'text': 'The anti-America...   \n",
       "5  {'retweeted': False, 'lang': 'en', 'favorite_c...   \n",
       "6  {'retweeted': False, 'lang': 'en', 'favorite_c...   \n",
       "7  {'retweeted': False, 'lang': 'en', 'favorite_c...   \n",
       "8  {'retweeted': False, 'text': 'RT for Brendon U...   \n",
       "9  {'retweeted': False, 'text': 'This is how I se...   \n",
       "\n",
       "                                              source  \\\n",
       "0  <a href=\"http://twitter.com\" rel=\"nofollow\">Tw...   \n",
       "1  <a href=\"http://twitter.com\" rel=\"nofollow\">Tw...   \n",
       "2  <a href=\"http://www.facebook.com/twitter\" rel=...   \n",
       "3  <a href=\"http://twitter.com/download/android\" ...   \n",
       "4  <a href=\"http://twitter.com/download/iphone\" r...   \n",
       "5  <a href=\"http://twitter.com/download/iphone\" r...   \n",
       "6  <a href=\"http://twitter.com\" rel=\"nofollow\">Tw...   \n",
       "7  <a href=\"http://twitter.com/download/android\" ...   \n",
       "8  <a href=\"http://twitter.com/download/iphone\" r...   \n",
       "9  <a href=\"http://twitter.com/download/iphone\" r...   \n",
       "\n",
       "                                                text   timestamp_ms  \\\n",
       "0  RT @bpolitics: .@krollbondrating's Christopher...  1459294817758   \n",
       "1  RT @HeidiAlpine: @dmartosko Cruz video found.....  1459294817810   \n",
       "2  Njihuni me Zonjën Trump !!! | Ekskluzive https...  1459294817917   \n",
       "3  Your an idiot she shouldn't have tried to grab...  1459294817903   \n",
       "4  RT @AlanLohner: The anti-American D.C. elites ...  1459294817851   \n",
       "5  RT @BIackPplTweets: Young Donald trump meets h...  1459294817758   \n",
       "6  RT @trumpresearch: @WaitingInBagdad @thehill T...  1459294818004   \n",
       "7  RT @HouseCracka: 29,000+ PEOPLE WATCHING TRUMP...  1459294817898   \n",
       "8  RT @urfavandtrump: RT for Brendon Urie\\nFav fo...  1459294818018   \n",
       "9  RT @trapgrampa: This is how I see #Trump every...  1459294818019   \n",
       "\n",
       "   truncated                                               user  \n",
       "0      False  {'utc_offset': 3600, 'profile_image_url_https'...  \n",
       "1      False  {'utc_offset': None, 'profile_image_url_https'...  \n",
       "2      False  {'utc_offset': 7200, 'profile_image_url_https'...  \n",
       "3      False  {'utc_offset': None, 'profile_image_url_https'...  \n",
       "4      False  {'utc_offset': -18000, 'profile_image_url_http...  \n",
       "5      False  {'utc_offset': None, 'profile_image_url_https'...  \n",
       "6      False  {'utc_offset': 10800, 'profile_image_url_https...  \n",
       "7      False  {'utc_offset': None, 'profile_image_url_https'...  \n",
       "8      False  {'utc_offset': None, 'profile_image_url_https'...  \n",
       "9      False  {'utc_offset': None, 'profile_image_url_https'...  \n",
       "\n",
       "[10 rows x 31 columns]"
      ]
     },
     "execution_count": 52,
     "metadata": {},
     "output_type": "execute_result"
    }
   ],
   "source": [
    "# importing pandas\n",
    "import pandas as pd\n",
    "\n",
    "# loading dataset\n",
    "tweets_df = pd.read_csv('./datasets/tweets.csv', chunksize=10)\n",
    "\n",
    "next(tweets_df)\n",
    "# tweets_df.head()"
   ]
  },
  {
   "attachments": {
    "image.png": {
     "image/png": "[encoded data removed]"
    }
   },
   "cell_type": "markdown",
   "id": "7d03504b",
   "metadata": {},
   "source": [
    "#### Processing large amounts of Twitter data\n",
    "![image.png](attachment:image.png)"
   ]
  },
  {
   "cell_type": "code",
   "execution_count": 46,
   "id": "539ee704",
   "metadata": {},
   "outputs": [
    {
     "name": "stdout",
     "output_type": "stream",
     "text": [
      "{'en': 97, 'et': 1, 'und': 2}\n"
     ]
    }
   ],
   "source": [
    "# Initialize an empty dictionary: counts_dict\n",
    "counts_dict = {}\n",
    "\n",
    "# Iterate over the file chunk by chunk\n",
    "for chunk in pd.read_csv('./datasets/tweets.csv', chunksize=10):\n",
    "\n",
    "    # Iterate over the column in DataFrame\n",
    "    for entry in chunk['lang']:\n",
    "        if entry in counts_dict.keys():\n",
    "            counts_dict[entry] += 1\n",
    "        else:\n",
    "            counts_dict[entry] = 1\n",
    "\n",
    "# Print the populated dictionary\n",
    "print(counts_dict)\n"
   ]
  },
  {
   "attachments": {
    "image.png": {
     "image/png": "[encoded data removed]"
    }
   },
   "cell_type": "markdown",
   "id": "856ce1c9",
   "metadata": {},
   "source": [
    "#### Extracting information for large amounts of Twitter data\n",
    "![image.png](attachment:image.png)"
   ]
  },
  {
   "cell_type": "code",
   "execution_count": 48,
   "id": "62c352b4",
   "metadata": {},
   "outputs": [
    {
     "name": "stdout",
     "output_type": "stream",
     "text": [
      "{'en': 97, 'et': 1, 'und': 2}\n"
     ]
    }
   ],
   "source": [
    "# Define count_entries()\n",
    "def count_entries(csv_file, c_size, colname):\n",
    "    \"\"\"Return a dictionary with counts of\n",
    "    occurrences as value for each key.\"\"\"\n",
    "    \n",
    "    # Initialize an empty dictionary: counts_dict\n",
    "    counts_dict = {}\n",
    "\n",
    "    # Iterate over the file chunk by chunk\n",
    "    for chunk in pd.read_csv(csv_file, chunksize=c_size):\n",
    "\n",
    "        # Iterate over the column in DataFrame\n",
    "        for entry in chunk[colname]:\n",
    "            if entry in counts_dict.keys():\n",
    "                counts_dict[entry] += 1\n",
    "            else:\n",
    "                counts_dict[entry] = 1\n",
    "\n",
    "    # Return counts_dict\n",
    "    return counts_dict\n",
    "\n",
    "# Call count_entries(): result_counts\n",
    "result_counts = count_entries('./datasets/tweets.csv', 10, 'lang')\n",
    "\n",
    "# Print result_counts\n",
    "print(result_counts)\n"
   ]
  },
  {
   "cell_type": "markdown",
   "id": "4449ed7a",
   "metadata": {},
   "source": [
    "## Congratulations!\n",
    "\n",
    "#### What’s next?\n",
    "- List comprehensions and generators\n",
    "- List comprehensions:\n",
    "- Create lists from other lists, DataFrame columns, etc.\n",
    "    - Single line of code.\n",
    "    - More efficient than using a loop."
   ]
  },
  {
   "cell_type": "markdown",
   "id": "43a72e04",
   "metadata": {},
   "source": [
    "# **`2- List comprehensions and generators`**"
   ]
  },
  {
   "cell_type": "markdown",
   "id": "71f5753d",
   "metadata": {},
   "source": [
    "# **`2.1 List comprehensions`** "
   ]
  },
  {
   "cell_type": "markdown",
   "id": "54a25afc",
   "metadata": {},
   "source": [
    "#### Populate a list with a for loop"
   ]
  },
  {
   "cell_type": "code",
   "execution_count": 1,
   "id": "3e88909e",
   "metadata": {},
   "outputs": [
    {
     "name": "stdout",
     "output_type": "stream",
     "text": [
      "[13, 9, 22, 4, 17]\n"
     ]
    }
   ],
   "source": [
    "nums = [12, 8, 21, 3, 16]\n",
    "new_nums = []\n",
    "for num in nums:\n",
    "    new_nums.append(num+1)\n",
    "print(new_nums)"
   ]
  },
  {
   "cell_type": "markdown",
   "id": "85500940",
   "metadata": {},
   "source": [
    "#### A list comprehension"
   ]
  },
  {
   "cell_type": "code",
   "execution_count": 2,
   "id": "554f3318",
   "metadata": {},
   "outputs": [
    {
     "name": "stdout",
     "output_type": "stream",
     "text": [
      "[13, 9, 22, 4, 17]\n"
     ]
    }
   ],
   "source": [
    "nums = [12, 8, 21, 3, 16]\n",
    "new_nums = [num+1 for num in nums]\n",
    "print(new_nums)"
   ]
  },
  {
   "cell_type": "markdown",
   "id": "6d100107",
   "metadata": {},
   "source": [
    "#### For loop & List Comprehension comparsion\n",
    "- `for loop`\n",
    "    - Not efficient\n",
    "    - Take time & long\n",
    "    \n",
    "- `list comprehension`\n",
    "    - Efficient\n",
    "    - Fast & time saving\n",
    "    \n",
    "- There are four characteristics of List comprehension\n",
    "    - One line function\n",
    "    - Without name function\n",
    "    - Not used before \n",
    "    - Not used after"
   ]
  },
  {
   "cell_type": "markdown",
   "id": "2f6b3a84",
   "metadata": {},
   "source": [
    "#### List comprehension with `range()`"
   ]
  },
  {
   "cell_type": "code",
   "execution_count": 4,
   "id": "dfc0749d",
   "metadata": {},
   "outputs": [
    {
     "name": "stdout",
     "output_type": "stream",
     "text": [
      "[0, 1, 2, 3, 4, 5, 6, 7, 8, 9]\n"
     ]
    }
   ],
   "source": [
    "result = [ num for num in range(10)]\n",
    "print(result)"
   ]
  },
  {
   "cell_type": "markdown",
   "id": "549d19ad",
   "metadata": {},
   "source": [
    "#### List comprehensions\n",
    "- Collapse for loops for building lists into a single line\n",
    "- Components\n",
    "    - Iterable\n",
    "    - Iterator variable (represent members of iterable)\n",
    "    - Output expression\n"
   ]
  },
  {
   "cell_type": "markdown",
   "id": "65f4ea75",
   "metadata": {},
   "source": [
    "#### Nested loops Example"
   ]
  },
  {
   "cell_type": "code",
   "execution_count": 8,
   "id": "75bb42b4",
   "metadata": {},
   "outputs": [
    {
     "name": "stdout",
     "output_type": "stream",
     "text": [
      "[(0, 6), (0, 7), (1, 6), (1, 7)]\n"
     ]
    }
   ],
   "source": [
    "paired_nums = []\n",
    "for num1 in range(0,2):\n",
    "    for num2 in range(6,8):\n",
    "        paired_nums.append((num1, num2))\n",
    "print(paired_nums)"
   ]
  },
  {
   "cell_type": "markdown",
   "id": "ed086afd",
   "metadata": {},
   "source": [
    "#####  QUESTION: How to do this with a `list comprehension`?"
   ]
  },
  {
   "cell_type": "code",
   "execution_count": 11,
   "id": "5ecdd904",
   "metadata": {},
   "outputs": [
    {
     "name": "stdout",
     "output_type": "stream",
     "text": [
      "[(0, 6), (0, 7), (1, 6), (1, 7)]\n"
     ]
    }
   ],
   "source": [
    "paired_nums =[(num1, num2) for num1 in range(0,2) for num2 in range(6,8)]\n",
    "print(paired_nums)"
   ]
  },
  {
   "cell_type": "markdown",
   "id": "68110162",
   "metadata": {},
   "source": [
    "##### Tradeoff: readability (only way is keep practising)"
   ]
  },
  {
   "cell_type": "markdown",
   "id": "ef8635a7",
   "metadata": {},
   "source": [
    "# **`2.2 Advanced comprehensions`**"
   ]
  },
  {
   "cell_type": "markdown",
   "id": "046818d8",
   "metadata": {},
   "source": [
    "#### Conditionals in comprehensions\n",
    "\n",
    "##### Conditionals on the iterable for even numbers"
   ]
  },
  {
   "cell_type": "code",
   "execution_count": 13,
   "id": "ea99f339",
   "metadata": {},
   "outputs": [
    {
     "name": "stdout",
     "output_type": "stream",
     "text": [
      "[0, 2, 4, 6, 8, 10]\n"
     ]
    }
   ],
   "source": [
    "even_nums = [num for num in range(11) if num%2==0]\n",
    "print(even_nums)"
   ]
  },
  {
   "cell_type": "markdown",
   "id": "0e6e1cce",
   "metadata": {},
   "source": [
    "Python documentation on the `%` operator: The `% (modulo)`\n",
    "operator yields the remainder from the division of the "
   ]
  },
  {
   "cell_type": "code",
   "execution_count": 14,
   "id": "8421c789",
   "metadata": {},
   "outputs": [
    {
     "data": {
      "text/plain": [
       "1"
      ]
     },
     "execution_count": 14,
     "metadata": {},
     "output_type": "execute_result"
    }
   ],
   "source": [
    "5%2"
   ]
  },
  {
   "cell_type": "code",
   "execution_count": 15,
   "id": "daa9b333",
   "metadata": {},
   "outputs": [
    {
     "data": {
      "text/plain": [
       "0"
      ]
     },
     "execution_count": 15,
     "metadata": {},
     "output_type": "execute_result"
    }
   ],
   "source": [
    "6%2"
   ]
  },
  {
   "cell_type": "markdown",
   "id": "e0ee6fb8",
   "metadata": {},
   "source": [
    "#### complex Conditionals in comprehensions\n",
    "- Conditionals on the `output expression`"
   ]
  },
  {
   "cell_type": "code",
   "execution_count": 18,
   "id": "5521aa8b",
   "metadata": {},
   "outputs": [
    {
     "name": "stdout",
     "output_type": "stream",
     "text": [
      "[0, 0, 4, 0, 16, 0, 36, 0, 64, 0, 100]\n"
     ]
    }
   ],
   "source": [
    "even_nums_power2 = [num**2 if num%2==0 else 0 for num in range(11)]\n",
    "print(even_nums_power2)"
   ]
  },
  {
   "cell_type": "markdown",
   "id": "4b19e5ec",
   "metadata": {},
   "source": [
    "#### Dict comprehensions\n",
    "- create dictionaries\n",
    "- Use curly braces `{}` instead of brackets `[]`"
   ]
  },
  {
   "cell_type": "code",
   "execution_count": 21,
   "id": "9aae8082",
   "metadata": {},
   "outputs": [
    {
     "name": "stdout",
     "output_type": "stream",
     "text": [
      "{0: 0, 1: -1, 2: -2, 3: -3, 4: -4, 5: -5, 6: -6, 7: -7}\n"
     ]
    }
   ],
   "source": [
    "pos_neg = {num:-num for num in range(8)}\n",
    "print(pos_neg)"
   ]
  },
  {
   "cell_type": "code",
   "execution_count": 22,
   "id": "385810f8",
   "metadata": {},
   "outputs": [
    {
     "name": "stdout",
     "output_type": "stream",
     "text": [
      "<class 'dict'>\n"
     ]
    }
   ],
   "source": [
    "print(type(pos_neg))"
   ]
  },
  {
   "cell_type": "markdown",
   "id": "485bdd8f",
   "metadata": {},
   "source": [
    "# **`2.3 Introduction to generator expressions`**"
   ]
  },
  {
   "cell_type": "markdown",
   "id": "116ef4ee",
   "metadata": {},
   "source": [
    "#### Generator expressions\n",
    "- Recall list comprehension"
   ]
  },
  {
   "cell_type": "code",
   "execution_count": 23,
   "id": "6c99df1f",
   "metadata": {},
   "outputs": [
    {
     "data": {
      "text/plain": [
       "[0, 2, 4, 6, 8, 10, 12, 14]"
      ]
     },
     "execution_count": 23,
     "metadata": {},
     "output_type": "execute_result"
    }
   ],
   "source": [
    "[2*num for num in range(8)]"
   ]
  },
  {
   "cell_type": "markdown",
   "id": "0f1458e8",
   "metadata": {},
   "source": [
    "- use `()` instead of `[]`"
   ]
  },
  {
   "cell_type": "code",
   "execution_count": 24,
   "id": "2919879a",
   "metadata": {},
   "outputs": [
    {
     "data": {
      "text/plain": [
       "<generator object <genexpr> at 0x000001149EB3D510>"
      ]
     },
     "execution_count": 24,
     "metadata": {},
     "output_type": "execute_result"
    }
   ],
   "source": [
    "(2*num for num in range(8))"
   ]
  },
  {
   "cell_type": "markdown",
   "id": "39412c19",
   "metadata": {},
   "source": [
    "#### List comprehensions vs. generators\n",
    "- List comprehension - `returns a list`\n",
    "- Generators - `returns a generator object`\n",
    "- Both can be iterated over\n"
   ]
  },
  {
   "cell_type": "markdown",
   "id": "8a0c2314",
   "metadata": {},
   "source": [
    "####  printing values from generators"
   ]
  },
  {
   "cell_type": "code",
   "execution_count": 26,
   "id": "7da8b10b",
   "metadata": {},
   "outputs": [
    {
     "name": "stdout",
     "output_type": "stream",
     "text": [
      "0\n",
      "1\n",
      "2\n",
      "3\n",
      "4\n",
      "5\n",
      "6\n",
      "7\n"
     ]
    }
   ],
   "source": [
    "result = (num for num in range(8))\n",
    "for num in result:\n",
    "    print(num)"
   ]
  },
  {
   "cell_type": "code",
   "execution_count": 27,
   "id": "7b4278fe",
   "metadata": {},
   "outputs": [
    {
     "name": "stdout",
     "output_type": "stream",
     "text": [
      "[0, 2, 4, 6, 8, 10, 12, 14]\n"
     ]
    }
   ],
   "source": [
    "print(list((2*num for num in range(8))))"
   ]
  },
  {
   "cell_type": "code",
   "execution_count": 29,
   "id": "31320c1b",
   "metadata": {},
   "outputs": [],
   "source": [
    "result = (num for num in range(6)) # Now will use next()"
   ]
  },
  {
   "cell_type": "code",
   "execution_count": 30,
   "id": "5687776b",
   "metadata": {},
   "outputs": [
    {
     "name": "stdout",
     "output_type": "stream",
     "text": [
      "0\n"
     ]
    }
   ],
   "source": [
    "print(next(result)) # Lazy evaluation"
   ]
  },
  {
   "cell_type": "code",
   "execution_count": 31,
   "id": "a9a864a7",
   "metadata": {},
   "outputs": [
    {
     "name": "stdout",
     "output_type": "stream",
     "text": [
      "1\n"
     ]
    }
   ],
   "source": [
    "print(next(result)) # Lazy evaluation"
   ]
  },
  {
   "cell_type": "markdown",
   "id": "2a08ebfb",
   "metadata": {},
   "source": [
    "#### Generator vs. list comprehension"
   ]
  },
  {
   "cell_type": "code",
   "execution_count": null,
   "id": "0e3183b0",
   "metadata": {},
   "outputs": [],
   "source": [
    "# Don't run becuase list coprehension doesn't support\n",
    "# [num for num in range(10**100000)] "
   ]
  },
  {
   "cell_type": "code",
   "execution_count": 32,
   "id": "ad156d66",
   "metadata": {},
   "outputs": [
    {
     "data": {
      "text/plain": [
       "<generator object <genexpr> at 0x000001149EB3DF90>"
      ]
     },
     "execution_count": 32,
     "metadata": {},
     "output_type": "execute_result"
    }
   ],
   "source": [
    "# Generator can easily this the same that list comprehension not\n",
    "(num for num in range(10**100000))"
   ]
  },
  {
   "cell_type": "markdown",
   "id": "e735f447",
   "metadata": {},
   "source": [
    "#### Conditionals in generator expressions"
   ]
  },
  {
   "cell_type": "code",
   "execution_count": 33,
   "id": "673d8cc7",
   "metadata": {},
   "outputs": [
    {
     "name": "stdout",
     "output_type": "stream",
     "text": [
      "<generator object <genexpr> at 0x000001149EB3D890>\n"
     ]
    }
   ],
   "source": [
    "even_nums = (num for num in range(10) if num%2==0)\n",
    "print(even_nums)"
   ]
  },
  {
   "cell_type": "code",
   "execution_count": 34,
   "id": "a2da7069",
   "metadata": {},
   "outputs": [
    {
     "name": "stdout",
     "output_type": "stream",
     "text": [
      "[0, 2, 4, 6, 8]\n"
     ]
    }
   ],
   "source": [
    "print(list(even_nums))"
   ]
  },
  {
   "cell_type": "markdown",
   "id": "6af245e3",
   "metadata": {},
   "source": [
    "#### Generator functions\n",
    "- Produces generator objects when called\n",
    "- Define like a regular function - `def`\n",
    "- Yields a sequence of values instead of returning a single value\n",
    "- Generates a value with `yield` keyword\n"
   ]
  },
  {
   "cell_type": "markdown",
   "id": "4dce6be5",
   "metadata": {},
   "source": [
    "##### Build a generator function"
   ]
  },
  {
   "cell_type": "code",
   "execution_count": 35,
   "id": "361823c2",
   "metadata": {},
   "outputs": [],
   "source": [
    "def num_sequence(n):\n",
    "    \"\"\"Generate values from 0 to n.\"\"\"\n",
    "    i=0\n",
    "    while i<n:\n",
    "        yield i\n",
    "        i+=1"
   ]
  },
  {
   "cell_type": "code",
   "execution_count": 44,
   "id": "e26711c1",
   "metadata": {},
   "outputs": [
    {
     "name": "stdout",
     "output_type": "stream",
     "text": [
      "<generator object num_sequence at 0x000001149ECD4580>\n"
     ]
    }
   ],
   "source": [
    "result = num_sequence(2)\n",
    "print(result)"
   ]
  },
  {
   "cell_type": "code",
   "execution_count": 45,
   "id": "9acb35f2",
   "metadata": {},
   "outputs": [
    {
     "name": "stdout",
     "output_type": "stream",
     "text": [
      "0\n",
      "1\n"
     ]
    }
   ],
   "source": [
    "for item in result:\n",
    "    print(item)"
   ]
  },
  {
   "cell_type": "code",
   "execution_count": 41,
   "id": "1275386d",
   "metadata": {},
   "outputs": [
    {
     "name": "stdout",
     "output_type": "stream",
     "text": [
      "[0, 1, 2, 3]\n"
     ]
    }
   ],
   "source": [
    "print(list(num_sequence(4)))"
   ]
  },
  {
   "cell_type": "markdown",
   "id": "3db9c233",
   "metadata": {},
   "source": [
    "# **`2.4 Wrapping up comprehensions and generators.`**"
   ]
  },
  {
   "attachments": {
    "image.png": {
     "image/png": "[encoded data removed]"
    }
   },
   "cell_type": "markdown",
   "id": "7081115c",
   "metadata": {},
   "source": [
    "#### Re-cap: list comprehensions\n",
    "![image.png](attachment:image.png)"
   ]
  },
  {
   "cell_type": "code",
   "execution_count": null,
   "id": "ce774197",
   "metadata": {},
   "outputs": [],
   "source": []
  }
 ],
 "metadata": {
  "kernelspec": {
   "display_name": "Python 3",
   "language": "python",
   "name": "python3"
  },
  "language_info": {
   "codemirror_mode": {
    "name": "ipython",
    "version": 3
   },
   "file_extension": ".py",
   "mimetype": "text/x-python",
   "name": "python",
   "nbconvert_exporter": "python",
   "pygments_lexer": "ipython3",
   "version": "3.8.8"
  }
 },
 "nbformat": 4,
 "nbformat_minor": 5
}
