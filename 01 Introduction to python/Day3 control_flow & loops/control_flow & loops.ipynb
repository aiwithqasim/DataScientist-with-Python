{
 "cells": [
  {
   "cell_type": "markdown",
   "metadata": {},
   "source": [
    "Yesterdays, we learn about operators which are mostly used for solving mathematical experssions. Arthematic operators have some precedance while solving mathematical expressions i:e **BODMAS** (Body of Divide,Multiply,Addition,Subtraction) or sometimes we say it **PEMDAS** (parenthesis, exponents, Multiplication, divison addition and subtraction)\n",
    "\n",
    "NOTE : In BODMAS and PEMDAS multiplication and division is done ir-regular because they have same precedance anyone of them can be done earlier then second one."
   ]
  },
  {
   "cell_type": "raw",
   "metadata": {},
   "source": [
    "4+8-7(5**2)/3*2+7\n",
    "4+8-7(25)/3*2+7\n",
    "4+8-(175)/3*2+7\n",
    "4+8-58.33*2+7\n",
    "4+8-116.66+7\n",
    "12-116.66+7\n",
    "19-116.66\n",
    "-97.66"
   ]
  },
  {
   "cell_type": "markdown",
   "metadata": {},
   "source": [
    "## Control Flow"
   ]
  },
  {
   "cell_type": "raw",
   "metadata": {},
   "source": [
    "if logic:\n",
    "    body\n",
    "elif logic:\n",
    "    body\n",
    "else:\n",
    "    body"
   ]
  },
  {
   "cell_type": "code",
   "execution_count": 9,
   "metadata": {},
   "outputs": [
    {
     "name": "stdout",
     "output_type": "stream",
     "text": [
      "Pakistan\n"
     ]
    }
   ],
   "source": [
    "if True:\n",
    "    print('Pakistan')\n",
    "else:\n",
    "    print('Pak-Navy')"
   ]
  },
  {
   "cell_type": "code",
   "execution_count": 10,
   "metadata": {},
   "outputs": [
    {
     "name": "stdout",
     "output_type": "stream",
     "text": [
      "Pakistan\n",
      "Pak-Navy\n"
     ]
    }
   ],
   "source": [
    "if True:\n",
    "    print('Pakistan')\n",
    "else:\n",
    "    print('Pak-Navy')\n",
    "    \n",
    "if False:\n",
    "    print('Pakistan')\n",
    "else:\n",
    "    print('Pak-Navy')"
   ]
  },
  {
   "cell_type": "code",
   "execution_count": 15,
   "metadata": {},
   "outputs": [
    {
     "name": "stdout",
     "output_type": "stream",
     "text": [
      "This code is executeable!!!\n",
      "Remaining program continue here...\n"
     ]
    }
   ],
   "source": [
    "# if  statemnet\n",
    "\n",
    "test_Value = 100\n",
    "\n",
    "if test_Value > 1:\n",
    "    print('This code is executeable!!!')\n",
    "\n",
    "if test_Value > 100:\n",
    "    print('This code is not executeable!!!')\n",
    "\n",
    "print('Remaining program continue here...')"
   ]
  },
  {
   "cell_type": "code",
   "execution_count": 14,
   "metadata": {},
   "outputs": [
    {
     "name": "stdout",
     "output_type": "stream",
     "text": [
      "You have a Fish\n"
     ]
    }
   ],
   "source": [
    "# elif Statments\n",
    "\n",
    "pet_type = 'Fish'\n",
    "\n",
    "if pet_type == 'Dog':\n",
    "    print('You have Dog')\n",
    "elif pet_type == 'Cat':\n",
    "    print('You have Cat')\n",
    "elif pet_type == 'Fish':\n",
    "    print('You have a Fish')\n",
    "else:\n",
    "    print('Not sure')\n",
    "    "
   ]
  },
  {
   "cell_type": "code",
   "execution_count": 18,
   "metadata": {},
   "outputs": [
    {
     "name": "stdout",
     "output_type": "stream",
     "text": [
      "Value is greater than 1\n",
      "string equals something else\n"
     ]
    }
   ],
   "source": [
    "# else statement\n",
    "\n",
    "test_Value = 50\n",
    "\n",
    "if test_Value > 1:\n",
    "    print('Value is greater than 1')\n",
    "else:\n",
    "    print('Value is less than 1')\n",
    "    \n",
    "test_string = 'VALID'\n",
    "\n",
    "if  test_string == 'NOT_VALID':\n",
    "    print('string equals NOT_VALID')\n",
    "else:\n",
    "    print('string equals something else')"
   ]
  },
  {
   "cell_type": "code",
   "execution_count": 20,
   "metadata": {},
   "outputs": [
    {
     "name": "stdout",
     "output_type": "stream",
     "text": [
      "User Name: Qasim\n",
      "password: 123\n",
      "Valid User\n"
     ]
    }
   ],
   "source": [
    "user = input('User Name: ')\n",
    "password = input('password: ')\n",
    "\n",
    "if (user == 'Qasim' or user == 'Muneeb') and password == '123':\n",
    "    print('Valid User')\n",
    "else:\n",
    "    print('Invalid User')"
   ]
  },
  {
   "cell_type": "code",
   "execution_count": 21,
   "metadata": {},
   "outputs": [
    {
     "name": "stdout",
     "output_type": "stream",
     "text": [
      "User Name: hassan\n",
      "Password: 123\n",
      "Invalid user\n"
     ]
    }
   ],
   "source": [
    "user = input('User Name: ')\n",
    "password = input('Password: ')\n",
    "if user in ['Qasim', 'Hassan', 'Muneeb'] and password == '123':\n",
    "    print('Valid user')\n",
    "else:\n",
    "    print('Invalid user')"
   ]
  },
  {
   "cell_type": "markdown",
   "metadata": {},
   "source": [
    "## Loops"
   ]
  },
  {
   "cell_type": "raw",
   "metadata": {},
   "source": [
    "for <temporary Variable> in <list variable>:\n",
    "    <action statement>\n",
    "    <action statement>"
   ]
  },
  {
   "cell_type": "code",
   "execution_count": 23,
   "metadata": {},
   "outputs": [
    {
     "name": "stdout",
     "output_type": "stream",
     "text": [
      "1\n",
      "2\n",
      "3\n",
      "4\n",
      "5\n"
     ]
    }
   ],
   "source": [
    "nums = [1,2,3,4,5]\n",
    "for i in nums:\n",
    "    print(i)"
   ]
  },
  {
   "cell_type": "code",
   "execution_count": 24,
   "metadata": {},
   "outputs": [
    {
     "name": "stdout",
     "output_type": "stream",
     "text": [
      "1\n",
      "2\n",
      "4\n",
      "5\n",
      "2\n"
     ]
    }
   ],
   "source": [
    "#continue\n",
    "big_number_list = [1,2,-1,4,-5,5,2,-9]\n",
    "\n",
    "for i in big_number_list:\n",
    "    if i < 0:\n",
    "        continue\n",
    "    print(i)"
   ]
  },
  {
   "cell_type": "code",
   "execution_count": 25,
   "metadata": {},
   "outputs": [
    {
     "name": "stdout",
     "output_type": "stream",
     "text": [
      "1\n",
      "2\n",
      "Negative number Detected..!!\n"
     ]
    }
   ],
   "source": [
    "#break\n",
    "big_number_list = [1,2,-1,4,-5,5,2,-9]\n",
    "\n",
    "for i in big_number_list:\n",
    "    if i < 0:\n",
    "        print('Negative number Detected..!!')\n",
    "        break\n",
    "    print(i)"
   ]
  },
  {
   "cell_type": "code",
   "execution_count": 33,
   "metadata": {},
   "outputs": [
    {
     "name": "stdout",
     "output_type": "stream",
     "text": [
      "['Qasim', 'Muneeb']\n",
      "Qasim\n",
      "Muneeb\n",
      "['Haseeb', 'Amir']\n",
      "Haseeb\n",
      "Amir\n",
      "['Zaidi', 'Abbas']\n",
      "Zaidi\n",
      "Abbas\n"
     ]
    }
   ],
   "source": [
    "# nested loop\n",
    "groups = [['Qasim','Muneeb'],['Haseeb', 'Amir'], ['Zaidi','Abbas']]\n",
    "\n",
    "for group in groups:\n",
    "    print(group)\n",
    "    for name in group:\n",
    "        print(name)"
   ]
  },
  {
   "cell_type": "code",
   "execution_count": 29,
   "metadata": {},
   "outputs": [
    {
     "name": "stdout",
     "output_type": "stream",
     "text": [
      "0 Pakistan Zindabad\n",
      "1 Pakistan Zindabad\n",
      "2 Pakistan Zindabad\n",
      "3 Pakistan Zindabad\n",
      "4 Pakistan Zindabad\n"
     ]
    }
   ],
   "source": [
    "for i in range(5):\n",
    "    print(str(i)+ ' Pakistan Zindabad')"
   ]
  },
  {
   "cell_type": "code",
   "execution_count": 30,
   "metadata": {},
   "outputs": [
    {
     "name": "stdout",
     "output_type": "stream",
     "text": [
      "5 Pakistan Zindabad\n",
      "6 Pakistan Zindabad\n",
      "7 Pakistan Zindabad\n",
      "8 Pakistan Zindabad\n",
      "9 Pakistan Zindabad\n"
     ]
    }
   ],
   "source": [
    "for i in range(5,10):\n",
    "    print(str(i)+ ' Pakistan Zindabad')"
   ]
  },
  {
   "cell_type": "code",
   "execution_count": 31,
   "metadata": {},
   "outputs": [
    {
     "name": "stdout",
     "output_type": "stream",
     "text": [
      "5 Pakistan Zindabad\n",
      "7 Pakistan Zindabad\n",
      "9 Pakistan Zindabad\n"
     ]
    }
   ],
   "source": [
    "for i in range(5,10,2):\n",
    "    print(str(i)+ ' Pakistan Zindabad')"
   ]
  },
  {
   "cell_type": "code",
   "execution_count": 14,
   "metadata": {},
   "outputs": [
    {
     "name": "stdout",
     "output_type": "stream",
     "text": [
      "2 x 1 = 2\n",
      "2 x 2 = 4\n",
      "2 x 3 = 6\n",
      "2 x 4 = 8\n",
      "2 x 5 = 10\n",
      "2 x 6 = 12\n",
      "2 x 7 = 14\n",
      "2 x 8 = 16\n",
      "2 x 9 = 18\n",
      "2 x 10 = 20\n"
     ]
    }
   ],
   "source": [
    "for i in range(1,11):\n",
    "#     print(2,\"x\",i,'=', 2*i)\n",
    "#     print(\"2 x \"+str(i)+\" =\"+str(2*i))\n",
    "    print(f\"2 x {i} = {2*i}\")"
   ]
  },
  {
   "cell_type": "code",
   "execution_count": 15,
   "metadata": {},
   "outputs": [
    {
     "name": "stdout",
     "output_type": "stream",
     "text": [
      "2 x 10 = 20\n",
      "2 x 9 = 18\n",
      "2 x 8 = 16\n",
      "2 x 7 = 14\n",
      "2 x 6 = 12\n",
      "2 x 5 = 10\n",
      "2 x 4 = 8\n",
      "2 x 3 = 6\n",
      "2 x 2 = 4\n",
      "2 x 1 = 2\n"
     ]
    }
   ],
   "source": [
    "for i in range(10,0,-1):\n",
    "#     print(2,\"x\",i,'=', 2*i)\n",
    "#     print(\"2 x \"+str(i)+\" =\"+str(2*i))\n",
    "    print(f\"2 x {i} = {2*i}\")"
   ]
  },
  {
   "cell_type": "code",
   "execution_count": 19,
   "metadata": {},
   "outputs": [
    {
     "name": "stdout",
     "output_type": "stream",
     "text": [
      "Enter table no: 3\n",
      "starting point of table: 1\n",
      "Ending point of table: 10\n",
      "3 x 1 = 3 \n",
      "3 x 2 = 6 \n",
      "3 x 3 = 9 \n",
      "3 x 4 = 12 \n",
      "3 x 5 = 15 \n",
      "3 x 6 = 18 \n",
      "3 x 7 = 21 \n",
      "3 x 8 = 24 \n",
      "3 x 9 = 27 \n",
      "3 x 10 = 30 \n"
     ]
    }
   ],
   "source": [
    "table_no = int(input('Enter table no: '))\n",
    "start = int(input('starting point of table: '))\n",
    "end = int(input('Ending point of table: '))\n",
    "\n",
    "for i in range(start,end+1):\n",
    "    print(f\"{table_no} x {i} = {table_no * i} \")"
   ]
  },
  {
   "cell_type": "code",
   "execution_count": 25,
   "metadata": {},
   "outputs": [
    {
     "name": "stdout",
     "output_type": "stream",
     "text": [
      "Enter table no: 3\n",
      "starting point of table: 3\n",
      "Ending point of table: 5\n",
      "------------------\n",
      "1 x 3 = 9 \n",
      "1 x 4 = 12 \n",
      "1 x 5 = 15 \n",
      "------------------\n",
      "2 x 3 = 9 \n",
      "2 x 4 = 12 \n",
      "2 x 5 = 15 \n",
      "------------------\n",
      "3 x 3 = 9 \n",
      "3 x 4 = 12 \n",
      "3 x 5 = 15 \n"
     ]
    }
   ],
   "source": [
    "table_no = int(input('Enter table no: '))\n",
    "start = int(input('starting point of table: '))\n",
    "end = int(input('Ending point of table: '))\n",
    "\n",
    "for table in range(1,table_no+1):\n",
    "    print(\"------------------\")\n",
    "    for i in range(start,end+1):\n",
    "        print(f\"{table} x {i} = {table_no * i} \")"
   ]
  },
  {
   "cell_type": "code",
   "execution_count": 30,
   "metadata": {},
   "outputs": [
    {
     "name": "stdout",
     "output_type": "stream",
     "text": [
      "Enter table no: 5\n",
      "starting point of table: 2\n",
      "Ending point of table: 7\n",
      "1 x 2 = 10 \t2 x 2 = 10 \t3 x 2 = 10 \t4 x 2 = 10 \t5 x 2 = 10 \t\n",
      "1 x 3 = 15 \t2 x 3 = 15 \t3 x 3 = 15 \t4 x 3 = 15 \t5 x 3 = 15 \t\n",
      "1 x 4 = 20 \t2 x 4 = 20 \t3 x 4 = 20 \t4 x 4 = 20 \t5 x 4 = 20 \t\n",
      "1 x 5 = 25 \t2 x 5 = 25 \t3 x 5 = 25 \t4 x 5 = 25 \t5 x 5 = 25 \t\n",
      "1 x 6 = 30 \t2 x 6 = 30 \t3 x 6 = 30 \t4 x 6 = 30 \t5 x 6 = 30 \t\n",
      "1 x 7 = 35 \t2 x 7 = 35 \t3 x 7 = 35 \t4 x 7 = 35 \t5 x 7 = 35 \t\n"
     ]
    }
   ],
   "source": [
    "table_no = int(input('Enter table no: '))\n",
    "start = int(input('starting point of table: '))\n",
    "end = int(input('Ending point of table: '))\n",
    "\n",
    "for i in range(start,end+1):\n",
    "    for table in range(1,table_no+1):\n",
    "        print(f\"{table} x {i} = {table_no * i} \", end='\\t')\n",
    "    print()"
   ]
  },
  {
   "cell_type": "code",
   "execution_count": 34,
   "metadata": {},
   "outputs": [
    {
     "name": "stdout",
     "output_type": "stream",
     "text": [
      "Time to eat ..!!\n"
     ]
    }
   ],
   "source": [
    "hungry = True\n",
    "while hungry:\n",
    "    print('Time to eat ..!!')\n",
    "    hungry = False # if we donot add this loop will in infite"
   ]
  },
  {
   "cell_type": "code",
   "execution_count": 35,
   "metadata": {},
   "outputs": [
    {
     "name": "stdout",
     "output_type": "stream",
     "text": [
      "5\n",
      "4\n",
      "3\n",
      "2\n",
      "1\n"
     ]
    }
   ],
   "source": [
    "x = 5\n",
    "while x > 0:\n",
    "    print(x)\n",
    "    x-=1"
   ]
  },
  {
   "cell_type": "code",
   "execution_count": 36,
   "metadata": {},
   "outputs": [
    {
     "name": "stdout",
     "output_type": "stream",
     "text": [
      "1\n",
      "2\n",
      "3\n",
      "4\n"
     ]
    }
   ],
   "source": [
    "x = 1\n",
    "while x < 5:\n",
    "    print(x)\n",
    "    x +=1"
   ]
  },
  {
   "cell_type": "code",
   "execution_count": 1,
   "metadata": {},
   "outputs": [
    {
     "name": "stdout",
     "output_type": "stream",
     "text": [
      "line no :  1\n",
      "line no :  2\n",
      "line no :  3\n",
      "line no :  4\n",
      "line no :  5\n",
      "line no :  6\n",
      "line no :  7\n",
      "line no :  8\n",
      "line no :  9\n",
      "line no :  10\n"
     ]
    }
   ],
   "source": [
    "counter = 1 \n",
    "\n",
    "while counter <=10:\n",
    "    print('line no : ',counter)\n",
    "    counter +=1"
   ]
  },
  {
   "cell_type": "code",
   "execution_count": 2,
   "metadata": {},
   "outputs": [
    {
     "name": "stdout",
     "output_type": "stream",
     "text": [
      "line no : 1000\n",
      "line no : 999\n",
      "line no : 998\n",
      "line no : 997\n",
      "line no : 996\n",
      "line no : 995\n",
      "line no : 994\n",
      "line no : 993\n",
      "line no : 992\n",
      "line no : 991\n",
      "line no : 990\n"
     ]
    }
   ],
   "source": [
    "counter = 1000\n",
    "\n",
    "while counter >=990:\n",
    "    print('line no :', counter)\n",
    "    counter-=1\n",
    "    "
   ]
  },
  {
   "cell_type": "code",
   "execution_count": null,
   "metadata": {},
   "outputs": [],
   "source": []
  }
 ],
 "metadata": {
  "kernelspec": {
   "display_name": "Python 3",
   "language": "python",
   "name": "python3"
  },
  "language_info": {
   "codemirror_mode": {
    "name": "ipython",
    "version": 3
   },
   "file_extension": ".py",
   "mimetype": "text/x-python",
   "name": "python",
   "nbconvert_exporter": "python",
   "pygments_lexer": "ipython3",
   "version": "3.8.5"
  }
 },
 "nbformat": 4,
 "nbformat_minor": 4
}
