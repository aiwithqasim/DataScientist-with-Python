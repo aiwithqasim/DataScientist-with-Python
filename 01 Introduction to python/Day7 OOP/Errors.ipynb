{
 "cells": [
  {
   "cell_type": "code",
   "execution_count": 5,
   "metadata": {},
   "outputs": [
    {
     "name": "stdout",
     "output_type": "stream",
     "text": [
      "30000\n",
      "30030\n"
     ]
    }
   ],
   "source": [
    "class BankAccount:\n",
    "    def __init__(self,balance =0):\n",
    "        self.balance = balance\n",
    "    \n",
    "    @classmethod\n",
    "    def withdraw(self,withdraw_amount=10):\n",
    "        if withdraw_amount > self.balance:\n",
    "            raise RuntimeError('Invalid Transaction')\n",
    "        self.balance -= withdraw_amount\n",
    "        return self.balance\n",
    "    \n",
    "    def deposit(self, deposit_amount=30):\n",
    "        self.deposit_amount=deposit_amount\n",
    "        self.balance += deposit_amount\n",
    "        return self.balance\n",
    "\n",
    "\n",
    "# Creating empty class inherited from BankAccount\n",
    "class SavingAccount(BankAccount):\n",
    "    pass\n",
    "\n",
    "p = BankAccount(30000)\n",
    "print(p.balance)\n",
    "print(p.deposit())\n",
    "# print(p.withdraw())"
   ]
  },
  {
   "cell_type": "code",
   "execution_count": null,
   "metadata": {},
   "outputs": [],
   "source": []
  }
 ],
 "metadata": {
  "kernelspec": {
   "display_name": "Python 3",
   "language": "python",
   "name": "python3"
  },
  "language_info": {
   "codemirror_mode": {
    "name": "ipython",
    "version": 3
   },
   "file_extension": ".py",
   "mimetype": "text/x-python",
   "name": "python",
   "nbconvert_exporter": "python",
   "pygments_lexer": "ipython3",
   "version": "3.8.5"
  }
 },
 "nbformat": 4,
 "nbformat_minor": 4
}
