{
 "cells": [
  {
   "cell_type": "markdown",
   "metadata": {},
   "source": [
    "## Outline:\n",
    "- instance and class level data\n",
    "- alternative constructor\n",
    "- core principle of OOP\n",
    "    - **inhertance**\n",
    "    Extends functionality of existing code\n",
    "    - **polymorphism**\n",
    "    creatinf a unified interface\n",
    "    - **encapsulation**\n",
    "    building of data and methods"
   ]
  },
  {
   "cell_type": "markdown",
   "metadata": {},
   "source": [
    "## Instance and Class level data"
   ]
  },
  {
   "cell_type": "markdown",
   "metadata": {},
   "source": [
    "### Instance level data"
   ]
  },
  {
   "cell_type": "code",
   "execution_count": 1,
   "metadata": {},
   "outputs": [],
   "source": [
    "class Employee:\n",
    "    def __init__(self,name,salary):\n",
    "        self.name = name\n",
    "        self.salary = salary\n",
    "        #name, salary are instance attribute\n",
    "        # self binds to an intance"
   ]
  },
  {
   "cell_type": "code",
   "execution_count": 2,
   "metadata": {},
   "outputs": [],
   "source": [
    "emp1 = Employee('Qasim', 5000)\n",
    "emp2 = Employee('Hassan', 10000)"
   ]
  },
  {
   "cell_type": "markdown",
   "metadata": {},
   "source": [
    "### Class-level data"
   ]
  },
  {
   "cell_type": "markdown",
   "metadata": {},
   "source": [
    "#### example1"
   ]
  },
  {
   "cell_type": "code",
   "execution_count": 3,
   "metadata": {},
   "outputs": [],
   "source": [
    "class Emplyee:\n",
    "    # defineing a class attribute\n",
    "    class_attr_name = 'attr_value' #<--- global within the class"
   ]
  },
  {
   "cell_type": "code",
   "execution_count": 4,
   "metadata": {},
   "outputs": [
    {
     "name": "stdout",
     "output_type": "stream",
     "text": [
      "attr_value\n"
     ]
    }
   ],
   "source": [
    "emp1 = Emplyee()\n",
    "print(emp1.class_attr_name)"
   ]
  },
  {
   "cell_type": "markdown",
   "metadata": {},
   "source": [
    "#### example2"
   ]
  },
  {
   "cell_type": "code",
   "execution_count": 5,
   "metadata": {},
   "outputs": [],
   "source": [
    "class Empployee:\n",
    "    # defininng class attribut\n",
    "    min_salary = 3000\n",
    "    def __init__(self, name, salary):\n",
    "        self.name = name\n",
    "        if salary >= Empployee.min_salary:\n",
    "            self.salary = salary\n",
    "        else:\n",
    "            self.salary = Empployee.min_salary\n",
    "        "
   ]
  },
  {
   "cell_type": "code",
   "execution_count": 6,
   "metadata": {},
   "outputs": [
    {
     "name": "stdout",
     "output_type": "stream",
     "text": [
      "3000\n"
     ]
    },
    {
     "data": {
      "text/plain": [
       "5000"
      ]
     },
     "execution_count": 6,
     "metadata": {},
     "output_type": "execute_result"
    }
   ],
   "source": [
    "emp1 = Empployee('Qasim', 5000)\n",
    "print(emp1.min_salary)\n",
    "emp1.salary"
   ]
  },
  {
   "cell_type": "markdown",
   "metadata": {},
   "source": [
    "### Why we use class attribute (class level data)\n",
    "- minimal/maximal values for attribut\n",
    "- commonly used values and constants eg: **pi** for **Circle** class"
   ]
  },
  {
   "cell_type": "markdown",
   "metadata": {},
   "source": [
    "### class methods\n",
    "- methods are already shared: same code for every instance\n",
    "- class methods can't use instance-level data"
   ]
  },
  {
   "cell_type": "code",
   "execution_count": 7,
   "metadata": {},
   "outputs": [],
   "source": [
    "class MyClass:\n",
    "    \n",
    "    @classmethod                      # <-- use decorator to declare class method\n",
    "    def my_awesome_method(self,args): # <-- class argument refers to the class\n",
    "        #Do stuff here\n",
    "        #can't use any instance attribute :(\n",
    "        \n",
    "        print(f'My name is {args}')\n",
    "    "
   ]
  },
  {
   "cell_type": "code",
   "execution_count": 8,
   "metadata": {},
   "outputs": [
    {
     "name": "stdout",
     "output_type": "stream",
     "text": [
      "My name is Qasim Hassan\n"
     ]
    }
   ],
   "source": [
    "MyClass.my_awesome_method('Qasim Hassan')"
   ]
  },
  {
   "cell_type": "markdown",
   "metadata": {},
   "source": [
    "### alternative connstructors\n",
    "- can only have one \\__init__()\n",
    "using class method to create an object\n",
    "    - use **return** to return an object\n",
    "    - s**elf(name)** will call \\__init__()"
   ]
  },
  {
   "cell_type": "code",
   "execution_count": 9,
   "metadata": {},
   "outputs": [],
   "source": [
    "class Employee:\n",
    "    min_salary = 50000\n",
    "    def __init__(self, name, salary=3000):\n",
    "        self.name = name\n",
    "        if salary >= Employee.min_salary:\n",
    "            self.salary = salary\n",
    "        else:\n",
    "            self.salary = Employee.min_salary\n",
    "            \n",
    "    @classmethod\n",
    "    def from_file(self,filename):\n",
    "        with open(filename, 'r') as f:\n",
    "            name = f.readline()\n",
    "        return self(name)"
   ]
  },
  {
   "cell_type": "code",
   "execution_count": 10,
   "metadata": {},
   "outputs": [],
   "source": [
    "#create an employee without calling employee\n",
    "emp = Employee.from_file('employee_data.txt')"
   ]
  },
  {
   "cell_type": "code",
   "execution_count": 11,
   "metadata": {},
   "outputs": [
    {
     "data": {
      "text/plain": [
       "__main__.Employee"
      ]
     },
     "execution_count": 11,
     "metadata": {},
     "output_type": "execute_result"
    }
   ],
   "source": [
    "type(emp)"
   ]
  },
  {
   "cell_type": "code",
   "execution_count": 12,
   "metadata": {},
   "outputs": [
    {
     "name": "stdout",
     "output_type": "stream",
     "text": [
      "Qasim Hassan\n",
      "50000\n"
     ]
    }
   ],
   "source": [
    "print(emp.name, emp.salary, sep= '\\n')"
   ]
  },
  {
   "cell_type": "markdown",
   "metadata": {},
   "source": [
    "## Core principles of OOP"
   ]
  },
  {
   "cell_type": "markdown",
   "metadata": {},
   "source": [
    "### class inhertance\n",
    "- don't repeat yourself\n",
    "- new class functionality = old class functionality + extra\n",
    "\n",
    "\n",
    "- **advantage**:\n",
    "code reuse\n",
    "- **application**:Someone has already done it eg: Numpy, Pandas, matplotlib, sikit-learn etc"
   ]
  },
  {
   "cell_type": "markdown",
   "metadata": {},
   "source": [
    "<img src = './media/inheritance.png'>"
   ]
  },
  {
   "cell_type": "code",
   "execution_count": 14,
   "metadata": {},
   "outputs": [
    {
     "name": "stdout",
     "output_type": "stream",
     "text": [
      "30000\n",
      "29800\n"
     ]
    }
   ],
   "source": [
    "class BankAccount:\n",
    "    def __init__(self,balance=0):\n",
    "        self.balance = balance\n",
    "    \n",
    "    \n",
    "    def withdraw(self, amount=30):\n",
    "        self.balance -= amount\n",
    "        return self.balance\n",
    "\n",
    "#     def deposit(self, deposit_amount=30):\n",
    "#         self.deposit_amount=deposit_amount\n",
    "#         self.balance += deposit_amount\n",
    "#         return self.balance\n",
    "\n",
    "#     def withdraw(self,withdraw_amount=10):\n",
    "#         if withdraw_amount > self.balance:\n",
    "#             raise RuntimeError('Invalid Transaction')\n",
    "#         self.balance -= withdraw_amount\n",
    "#         return self.balance\n",
    "    \n",
    "# Creating empty class inherited from BankAccount\n",
    "class SavingAccount(BankAccount):\n",
    "    pass\n",
    "\n",
    "p = BankAccount(30000)\n",
    "print(p.balance)\n",
    "print(p.withdraw(200))"
   ]
  },
  {
   "cell_type": "markdown",
   "metadata": {},
   "source": [
    "##### NOTE: child has all of the parent data"
   ]
  },
  {
   "cell_type": "code",
   "execution_count": null,
   "metadata": {},
   "outputs": [],
   "source": [
    "#constructor inherited from BankAccount\n",
    "saving_acct = SavingAccount(50000)\n",
    "print(type(saving_acct))\n",
    "saving_acct.balance"
   ]
  },
  {
   "cell_type": "code",
   "execution_count": null,
   "metadata": {},
   "outputs": [],
   "source": [
    "#Attribute inherited from BankAccount\n",
    "saving_acct.balance"
   ]
  },
  {
   "cell_type": "code",
   "execution_count": null,
   "metadata": {},
   "outputs": [],
   "source": [
    "#method inherited from BankAccount\n",
    "saving_acct.withdraw(300)"
   ]
  },
  {
   "cell_type": "markdown",
   "metadata": {},
   "source": [
    "##### Inheritance \"IS A\" realationship\n",
    "\n",
    "A **SavingAccount** IS A **relationship**"
   ]
  },
  {
   "cell_type": "code",
   "execution_count": null,
   "metadata": {},
   "outputs": [],
   "source": [
    "saving_acc = SavingAccount(5000)\n",
    "bank_acc = BankAccount(3000)\n",
    "print(isinstance(saving_acc, SavingAccount))\n",
    "print(isinstance(saving_acc, BankAccount))\n",
    "print(isinstance(bank_acc, SavingAccount))\n",
    "print(isinstance(bank_acc, BankAccount))"
   ]
  },
  {
   "cell_type": "markdown",
   "metadata": {},
   "source": [
    "### Customizing functionlaity via inhertance"
   ]
  },
  {
   "cell_type": "markdown",
   "metadata": {},
   "source": [
    "<img src= \"./media/inheritance.png\">"
   ]
  },
  {
   "cell_type": "markdown",
   "metadata": {},
   "source": [
    "#### what we have so far"
   ]
  },
  {
   "cell_type": "code",
   "execution_count": null,
   "metadata": {},
   "outputs": [],
   "source": [
    "class BankAccount:\n",
    "    def __init__(self,balance):\n",
    "        self.balance = balance\n",
    "    \n",
    "    @classmethod\n",
    "    def withdraw(self, amount):\n",
    "        self.balance -= amount\n",
    "\n",
    "# Creating empty class inherited from BankAccount\n",
    "class SavingAccount(BankAccount):\n",
    "    pass"
   ]
  },
  {
   "cell_type": "markdown",
   "metadata": {},
   "source": [
    "#### customizing constructor"
   ]
  },
  {
   "cell_type": "code",
   "execution_count": null,
   "metadata": {},
   "outputs": [],
   "source": [
    "class SavingAccount(BankAccount):\n",
    "    # constructor speficially for SavingAccount  with an additional paramter\n",
    "    def __init__(self, balance, interest_rate):\n",
    "        # calling parent constructor using ClassName.__init__()\n",
    "        BankAccount.__init__(self, balance)\n",
    "        #add more functionality\n",
    "        self.interest_rate = interest_rate"
   ]
  },
  {
   "cell_type": "markdown",
   "metadata": {},
   "source": [
    "Keep in mind\n",
    "- can run constructor of the parent class first by paren.\\__init__(self,args...)\n",
    "- add more functionality\n",
    "- Don't have to call parent constructor "
   ]
  },
  {
   "cell_type": "markdown",
   "metadata": {},
   "source": [
    "####  creating object with customized constructor"
   ]
  },
  {
   "cell_type": "code",
   "execution_count": null,
   "metadata": {},
   "outputs": [],
   "source": [
    "#construct the object of new customer\n",
    "acct = SavingAccount(3000,0.04)\n",
    "acct.interest_rate"
   ]
  },
  {
   "cell_type": "markdown",
   "metadata": {},
   "source": [
    "### Adding functionality | new methods\n",
    "- add methods as usual\n",
    "- can use the data from both parent and chile class"
   ]
  },
  {
   "cell_type": "code",
   "execution_count": null,
   "metadata": {},
   "outputs": [],
   "source": [
    "class SavingAccount(BankAccount):\n",
    "    def __init__(self,balance,interest_rate):\n",
    "        BankAccount.__init__(self,balance)\n",
    "        self.interest_rate = interest_rate\n",
    "        \n",
    "    @classmethod #new functionality\n",
    "    def compute_interest(self, n_period=1):\n",
    "        return self.balance * ( self.interest_rate ** n_period -1 )"
   ]
  },
  {
   "cell_type": "code",
   "execution_count": null,
   "metadata": {},
   "outputs": [],
   "source": [
    "saving_acct = SavingAccount(5000,0.3)\n",
    "print(saving_acc.balance, saving_acct.interest_rate, sep= '\\n')\n",
    "# saving_acct.compute_interest(2)"
   ]
  },
  {
   "cell_type": "code",
   "execution_count": null,
   "metadata": {},
   "outputs": [],
   "source": [
    "class CheckingAccount(BankAccount):\n",
    "    def __init__(self, balance, limit):\n",
    "        BankAccount.__init__(self, balance)\n",
    "        self.limit = limit\n",
    "    @classmethod\n",
    "    def deposit(self, amount):\n",
    "        self.balance += amount\n",
    "        \n",
    "    @classmethod\n",
    "    def withdraw(self, amount, fee=0):\n",
    "        if fee <= self.limit:\n",
    "            BankAccount.withdraw(self, amount - fee)\n",
    "        else:\n",
    "            BankAccount.withdraw(self,amount - self.limit)"
   ]
  },
  {
   "cell_type": "code",
   "execution_count": null,
   "metadata": {},
   "outputs": [],
   "source": [
    "check_acct = CheckingAccount(1000, 25)"
   ]
  },
  {
   "cell_type": "code",
   "execution_count": null,
   "metadata": {},
   "outputs": [],
   "source": [
    "check_acct.limit"
   ]
  },
  {
   "cell_type": "code",
   "execution_count": null,
   "metadata": {},
   "outputs": [],
   "source": [
    "# Will call withdraw from CheckingAccount\n",
    "check_acct.withdraw(200)\n",
    "# Will call withdraw from CheckingAccount\n",
    "check_acct.withdraw(200, fee=15)"
   ]
  },
  {
   "cell_type": "code",
   "execution_count": null,
   "metadata": {},
   "outputs": [],
   "source": [
    "bank_acct = BankAccount(1000)\n",
    "# Will call withdraw from BankAccount\n",
    "bank_acct.withdraw(200)\n",
    "# Will produce an error\n",
    "bank_acct.withdraw(200, fee=15)"
   ]
  },
  {
   "cell_type": "markdown",
   "metadata": {},
   "source": [
    "## Practise"
   ]
  },
  {
   "cell_type": "code",
   "execution_count": null,
   "metadata": {},
   "outputs": [],
   "source": [
    "class Rectangle:\n",
    "    def __init__(self, length, breadth, unit_cost=0):\n",
    "        self.length = length\n",
    "        self.breadth = breadth\n",
    "        self.unit_cost = unit_cost\n",
    "   \n",
    "    @classmethod\n",
    "    def get_perimeter(self):\n",
    "        return 2 * (self.length + self.breadth)\n",
    "\n",
    "    def get_area(self):\n",
    "        return self.length * self.breadth\n",
    "\n",
    "    def calculate_cost(self):\n",
    "        area = self.get_area()\n",
    "        return area * self.unit_cost\n",
    "    \n",
    "# breadth = 120 cm, length = 160 cm, 1 cm^2 = Rs 2000\n",
    "r = Rectangle(160, 120, 2000)\n",
    "print(\"Area of Rectangle: %s cm^2\" % (r.get_area()))\n",
    "print(\"Cost of rectangular field: Rs. %s \" %(r.calculate_cost()))"
   ]
  },
  {
   "cell_type": "code",
   "execution_count": null,
   "metadata": {},
   "outputs": [],
   "source": []
  }
 ],
 "metadata": {
  "kernelspec": {
   "display_name": "Python 3",
   "language": "python",
   "name": "python3"
  },
  "language_info": {
   "codemirror_mode": {
    "name": "ipython",
    "version": 3
   },
   "file_extension": ".py",
   "mimetype": "text/x-python",
   "name": "python",
   "nbconvert_exporter": "python",
   "pygments_lexer": "ipython3",
   "version": "3.8.5"
  }
 },
 "nbformat": 4,
 "nbformat_minor": 4
}
