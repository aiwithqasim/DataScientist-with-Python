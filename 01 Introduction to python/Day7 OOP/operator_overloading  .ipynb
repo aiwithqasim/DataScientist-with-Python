{
 "cells": [
  {
   "cell_type": "code",
   "execution_count": 2,
   "metadata": {},
   "outputs": [],
   "source": [
    "import numpy as np"
   ]
  },
  {
   "cell_type": "markdown",
   "metadata": {},
   "source": [
    "## Outline:\n",
    "   - Operator Overloading\n",
    "        - comparsion\n",
    "        - String represenation"
   ]
  },
  {
   "cell_type": "markdown",
   "metadata": {},
   "source": [
    "## Operator Overloading: Comparsion"
   ]
  },
  {
   "cell_type": "markdown",
   "metadata": {},
   "source": [
    "### object equality"
   ]
  },
  {
   "cell_type": "code",
   "execution_count": 18,
   "metadata": {},
   "outputs": [
    {
     "data": {
      "text/plain": [
       "False"
      ]
     },
     "execution_count": 18,
     "metadata": {},
     "output_type": "execute_result"
    }
   ],
   "source": [
    "class Customer:\n",
    "    def __init__(self, name, balance):\n",
    "        self.name, self.balance = name, balance\n",
    "cust1 = Customer(\"Muneed ul Hassan\", 1000)\n",
    "cust2 = Customer('Mehmood ul Hassan', 5000)\n",
    "cust1 == cust2"
   ]
  },
  {
   "cell_type": "code",
   "execution_count": 19,
   "metadata": {},
   "outputs": [
    {
     "data": {
      "text/plain": [
       "False"
      ]
     },
     "execution_count": 19,
     "metadata": {},
     "output_type": "execute_result"
    }
   ],
   "source": [
    "class Customer:\n",
    "    def __init__(self, name, balance):\n",
    "        self.name, self.balance = name, balance\n",
    "cust1 = Customer(\"Muneed ul Hassan\", 1000)\n",
    "cust2 = Customer(\"Muneed ul Hassan\", 1000)\n",
    "cust1 == cust2"
   ]
  },
  {
   "cell_type": "code",
   "execution_count": 20,
   "metadata": {},
   "outputs": [
    {
     "name": "stdout",
     "output_type": "stream",
     "text": [
      "<__main__.Customer object at 0x00000238B66ED640>\n",
      "<__main__.Customer object at 0x00000238B66ED610>\n"
     ]
    }
   ],
   "source": [
    "print(cust1, cust2, sep='\\n')"
   ]
  },
  {
   "cell_type": "markdown",
   "metadata": {},
   "source": [
    "## custom comparsion"
   ]
  },
  {
   "cell_type": "code",
   "execution_count": 25,
   "metadata": {},
   "outputs": [
    {
     "data": {
      "text/plain": [
       "array([ True,  True,  True])"
      ]
     },
     "execution_count": 25,
     "metadata": {},
     "output_type": "execute_result"
    }
   ],
   "source": [
    "# two different array contain the same data\n",
    "\n",
    "arr1 = np.array([1,2,3])\n",
    "arr2 = np.array([1,2,3])\n",
    "\n",
    "arr1 == arr2"
   ]
  },
  {
   "cell_type": "code",
   "execution_count": null,
   "metadata": {},
   "outputs": [],
   "source": [
    "Over"
   ]
  },
  {
   "cell_type": "markdown",
   "metadata": {},
   "source": [
    "## Overloading \\__eq__()\n",
    "- **\\__ed__()** is called when 2 object od a same class are compared using **==**\n",
    "- accept two argument, self and ither objects to be compare\n",
    "- return boolean"
   ]
  },
  {
   "cell_type": "code",
   "execution_count": 49,
   "metadata": {},
   "outputs": [],
   "source": [
    "class Customer:\n",
    "    def __init__(self, ids, name):\n",
    "        self.ids, self.name = ids, name \n",
    "        \n",
    "    #will be called == is used\n",
    "    def __eq__(self,other):\n",
    "        #Diagnostic printout\n",
    "        print(\"__eq__() is called..!!\")\n",
    "        \n",
    "    # return True if all attributes match\n",
    "        return (self.ids == other.ids) and \\\n",
    "            (self.name == other.name)"
   ]
  },
  {
   "cell_type": "code",
   "execution_count": 51,
   "metadata": {},
   "outputs": [
    {
     "name": "stdout",
     "output_type": "stream",
     "text": [
      "__eq__() is called..!!\n"
     ]
    },
    {
     "data": {
      "text/plain": [
       "True"
      ]
     },
     "execution_count": 51,
     "metadata": {},
     "output_type": "execute_result"
    }
   ],
   "source": [
    "cust1 = Customer(123, \"Muneed ul Hassan\")\n",
    "cust2 = Customer(123, \"Muneed ul Hassan\")\n",
    "\n",
    "cust1 == cust2"
   ]
  },
  {
   "cell_type": "code",
   "execution_count": 52,
   "metadata": {},
   "outputs": [
    {
     "name": "stdout",
     "output_type": "stream",
     "text": [
      "__eq__() is called..!!\n"
     ]
    },
    {
     "data": {
      "text/plain": [
       "False"
      ]
     },
     "execution_count": 52,
     "metadata": {},
     "output_type": "execute_result"
    }
   ],
   "source": [
    "# Two unequal objects - different ids\n",
    "\n",
    "customer1 = Customer(123,\"Maryam Azar\")\n",
    "customer2 = Customer(456,\"Maryam Azar\")\n",
    "\n",
    "customer1 == customer2"
   ]
  },
  {
   "cell_type": "markdown",
   "metadata": {},
   "source": [
    "<img src = \"./media/comparsion.png\">"
   ]
  },
  {
   "cell_type": "markdown",
   "metadata": {},
   "source": [
    "\\__hash__() to used object ad dictionary key and in sets"
   ]
  },
  {
   "cell_type": "markdown",
   "metadata": {},
   "source": [
    "## Operator overloading: String represenation"
   ]
  },
  {
   "cell_type": "markdown",
   "metadata": {},
   "source": [
    "### printing an object"
   ]
  },
  {
   "cell_type": "code",
   "execution_count": 1,
   "metadata": {},
   "outputs": [
    {
     "name": "stdout",
     "output_type": "stream",
     "text": [
      "<__main__.Customer object at 0x00000238B5C71B80>\n"
     ]
    }
   ],
   "source": [
    "class Customer:\n",
    "    def __init__(self, name, balance):\n",
    "        self.name, self.balance = name, balance\n",
    "\n",
    "cust = Customer('Qasim Hassan', 5000)\n",
    "print(cust)"
   ]
  },
  {
   "cell_type": "code",
   "execution_count": 3,
   "metadata": {},
   "outputs": [
    {
     "name": "stdout",
     "output_type": "stream",
     "text": [
      "[1 2 3 4]\n"
     ]
    }
   ],
   "source": [
    "arr = np.array([1,2,3,4])\n",
    "print(arr)"
   ]
  },
  {
   "cell_type": "markdown",
   "metadata": {},
   "source": [
    "**\\__str__()**\n",
    "- print(obj)\n",
    "- str(obj)"
   ]
  },
  {
   "cell_type": "code",
   "execution_count": 4,
   "metadata": {},
   "outputs": [
    {
     "name": "stdout",
     "output_type": "stream",
     "text": [
      "[1 2 3 4]\n"
     ]
    }
   ],
   "source": [
    "print(np.array([1,2,3,4]))"
   ]
  },
  {
   "cell_type": "code",
   "execution_count": 5,
   "metadata": {},
   "outputs": [
    {
     "data": {
      "text/plain": [
       "'[1 2 3 4]'"
      ]
     },
     "execution_count": 5,
     "metadata": {},
     "output_type": "execute_result"
    }
   ],
   "source": [
    "str(np.array([1,2,3,4]))"
   ]
  },
  {
   "cell_type": "markdown",
   "metadata": {},
   "source": [
    "- formal for end user\n",
    "- **str**ing representation"
   ]
  },
  {
   "cell_type": "markdown",
   "metadata": {},
   "source": [
    "**\\__repr__()**\n",
    "\n",
    "- repr(obj)\n",
    "- printing on console"
   ]
  },
  {
   "cell_type": "code",
   "execution_count": 7,
   "metadata": {},
   "outputs": [
    {
     "data": {
      "text/plain": [
       "'array([1, 2, 3, 4])'"
      ]
     },
     "execution_count": 7,
     "metadata": {},
     "output_type": "execute_result"
    }
   ],
   "source": [
    "repr(np.array([1,2,3,4]))"
   ]
  },
  {
   "cell_type": "code",
   "execution_count": 8,
   "metadata": {},
   "outputs": [
    {
     "data": {
      "text/plain": [
       "array([1, 2, 3, 4])"
      ]
     },
     "execution_count": 8,
     "metadata": {},
     "output_type": "execute_result"
    }
   ],
   "source": [
    "np.array([1,2,3,4])"
   ]
  },
  {
   "cell_type": "markdown",
   "metadata": {},
   "source": [
    "- formal, for developer\n",
    "- **repr**oduceable **repr**esentation\n",
    "- fallback for print()"
   ]
  },
  {
   "cell_type": "markdown",
   "metadata": {},
   "source": [
    "### Implementation: str"
   ]
  },
  {
   "cell_type": "code",
   "execution_count": 12,
   "metadata": {},
   "outputs": [],
   "source": [
    "class Customer:\n",
    "    def __init__(self, name, balance):\n",
    "        self.name, self.balance = name, balance\n",
    "    \n",
    "    def __str__(self):\n",
    "        cust_str = \"\"\"\n",
    "        Customer:\n",
    "        name : {name}\n",
    "        balance: {balance}\n",
    "        \"\"\".format(name= self.name,\\\n",
    "                   balance= self.balance)\n",
    "        return cust_str"
   ]
  },
  {
   "cell_type": "code",
   "execution_count": 14,
   "metadata": {},
   "outputs": [
    {
     "name": "stdout",
     "output_type": "stream",
     "text": [
      "\n",
      "        Customer:\n",
      "        name : Qasim Hassan\n",
      "        balance: 3000\n",
      "        \n"
     ]
    }
   ],
   "source": [
    "cust1 = Customer('Qasim Hassan', 3000)\n",
    "\n",
    "# will implicitly call __str__()\n",
    "print(cust1)"
   ]
  },
  {
   "cell_type": "markdown",
   "metadata": {},
   "source": [
    "### Implementation: repr"
   ]
  },
  {
   "cell_type": "code",
   "execution_count": 17,
   "metadata": {},
   "outputs": [
    {
     "data": {
      "text/plain": [
       "Customer('Qasim Hassan', 20000)"
      ]
     },
     "execution_count": 17,
     "metadata": {},
     "output_type": "execute_result"
    }
   ],
   "source": [
    "class Customer:\n",
    "    def __init__(self, name, balance):\n",
    "        self.name, self.balance = name, balance\n",
    "    \n",
    "    def __repr__(self):\n",
    "        #Notice the '---' around name\n",
    "        return \"Customer('{name}', {balance})\".format(name= self.name, balance=self.balance)\n",
    "\n",
    "cust = Customer('Qasim Hassan', 20000)\n",
    "cust # <-- will implicity call __repr__()"
   ]
  },
  {
   "cell_type": "markdown",
   "metadata": {},
   "source": [
    "Note: Suuround string argument with quotations marks in the **\\__reper__()** output"
   ]
  },
  {
   "cell_type": "code",
   "execution_count": null,
   "metadata": {},
   "outputs": [],
   "source": []
  }
 ],
 "metadata": {
  "kernelspec": {
   "display_name": "Python 3",
   "language": "python",
   "name": "python3"
  },
  "language_info": {
   "codemirror_mode": {
    "name": "ipython",
    "version": 3
   },
   "file_extension": ".py",
   "mimetype": "text/x-python",
   "name": "python",
   "nbconvert_exporter": "python",
   "pygments_lexer": "ipython3",
   "version": "3.8.5"
  }
 },
 "nbformat": 4,
 "nbformat_minor": 4
}
