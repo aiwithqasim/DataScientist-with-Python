{
 "cells": [
  {
   "cell_type": "markdown",
   "metadata": {},
   "source": [
    "### Reach Lake Game"
   ]
  },
  {
   "cell_type": "code",
   "execution_count": null,
   "metadata": {},
   "outputs": [],
   "source": [
    "print(\"Welcome to my first game!\")\n",
    "name = input(\"What is your name? \")\n",
    "age = int(input(\"What is your age? \"))\n",
    "\n",
    "health = 10\n",
    "\n",
    "if age >= 18:\n",
    "    print(\"You are old enough to play!\")\n",
    "\n",
    "    wants_to_play = input(\"Do you want to play? \").lower()\n",
    "    if wants_to_play == \"yes\":\n",
    "        print(\"You are staring with\", health, \"health\")\n",
    "        print(\"Let's play!\")\n",
    "\n",
    "        left_or_right = input(\"First choice... Left or Right (left/right)? \")\n",
    "        if left_or_right == \"left\":\n",
    "            ans = input(\"Nice, you follow the path and reach a lake... Do you swim across or go around (across/around)? \")\n",
    "\n",
    "            if ans == \"around\":\n",
    "                print(\"You went around and reached the other side of the lake.\")\n",
    "            elif ans == \"across\":\n",
    "                print(\"You managed to get across, but were bit by a fish and lost 5 health.\")\n",
    "                health -= 5\n",
    "\n",
    "            ans = input(\"You notice a house and a river. Which do you go to (river/house)? \")\n",
    "            if ans == \"house\":\n",
    "                print(\"You go to the house and are greeted by the owner... He doesn't like you and you lose 5 health\")\n",
    "                health -= 5\n",
    "\n",
    "                if health <= 0:\n",
    "                    print(\"You now have 0 health and you lost the game...\")\n",
    "                else:\n",
    "                    print(\"You have survived... You win!\")\n",
    "\n",
    "            else:\n",
    "                print(\"You fell in the river and lost...\")\n",
    "\n",
    "\n",
    "        else:\n",
    "            print(\"You fell down and lost...\")\n",
    "\n",
    "    else:\n",
    "        print(\"Cya...\")\n",
    "else:\n",
    "    print(\"You are not old enough to play...\")"
   ]
  },
  {
   "cell_type": "markdown",
   "metadata": {},
   "source": [
    "### GitHub Profile scrapper"
   ]
  },
  {
   "cell_type": "code",
   "execution_count": 4,
   "metadata": {},
   "outputs": [
    {
     "name": "stdout",
     "output_type": "stream",
     "text": [
      "Enter your GitHub your name : qasim1020\n",
      "https://avatars.githubusercontent.com/u/51156582?v=4\n"
     ]
    }
   ],
   "source": [
    "import requests\n",
    "from bs4 import BeautifulSoup as bs\n",
    "\n",
    "\n",
    "github_user = input('Enter your GitHub your name : ')\n",
    "url = 'https://github.com/'+github_user\n",
    "\n",
    "r = requests.get(url)\n",
    "soup = bs(r.content, 'html.parser')\n",
    "profile_image = soup.find('img', {'alt': 'Avatar'})['src']\n",
    "print(profile_image)\n"
   ]
  },
  {
   "cell_type": "code",
   "execution_count": null,
   "metadata": {},
   "outputs": [],
   "source": []
  }
 ],
 "metadata": {
  "kernelspec": {
   "display_name": "Python 3",
   "language": "python",
   "name": "python3"
  },
  "language_info": {
   "codemirror_mode": {
    "name": "ipython",
    "version": 3
   },
   "file_extension": ".py",
   "mimetype": "text/x-python",
   "name": "python",
   "nbconvert_exporter": "python",
   "pygments_lexer": "ipython3",
   "version": "3.8.8"
  }
 },
 "nbformat": 4,
 "nbformat_minor": 4
}
