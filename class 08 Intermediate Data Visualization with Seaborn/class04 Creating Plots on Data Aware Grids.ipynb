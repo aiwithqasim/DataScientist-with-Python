{
 "cells": [
  {
   "cell_type": "markdown",
   "id": "62536a7d",
   "metadata": {},
   "source": [
    "# Intermediate Data Visualization with Seaborn\n",
    "\n",
    "👋 Welcome to your workspace! Here, you can write and run Python code and add text in [Markdown](https://www.markdownguide.org/basic-syntax/). Below, we've imported the datasets from the course _Intermediate Data Visualization with Seaborn_ as DataFrames as well as the packages used in the course. This is your sandbox environment: analyze the course datasets further, take notes, or experiment with code!"
   ]
  },
  {
   "cell_type": "code",
   "execution_count": 1,
   "id": "9947561c",
   "metadata": {},
   "outputs": [
    {
     "data": {
      "text/html": [
       "<div>\n",
       "<style scoped>\n",
       "    .dataframe tbody tr th:only-of-type {\n",
       "        vertical-align: middle;\n",
       "    }\n",
       "\n",
       "    .dataframe tbody tr th {\n",
       "        vertical-align: top;\n",
       "    }\n",
       "\n",
       "    .dataframe thead th {\n",
       "        text-align: right;\n",
       "    }\n",
       "</style>\n",
       "<table border=\"1\" class=\"dataframe\">\n",
       "  <thead>\n",
       "    <tr style=\"text-align: right;\">\n",
       "      <th></th>\n",
       "      <th>INSTNM</th>\n",
       "      <th>OPEID</th>\n",
       "      <th>REGION</th>\n",
       "      <th>SAT_AVG_ALL</th>\n",
       "      <th>PCTPELL</th>\n",
       "      <th>PCTFLOAN</th>\n",
       "      <th>ADM_RATE_ALL</th>\n",
       "      <th>UG</th>\n",
       "      <th>AVGFACSAL</th>\n",
       "      <th>COMPL_RPY_5YR_RT</th>\n",
       "      <th>...</th>\n",
       "      <th>CONTROL</th>\n",
       "      <th>WOMENONLY</th>\n",
       "      <th>MENONLY</th>\n",
       "      <th>LOCALE</th>\n",
       "      <th>Tuition</th>\n",
       "      <th>Degree_Type</th>\n",
       "      <th>Ownership</th>\n",
       "      <th>Regions</th>\n",
       "      <th>Locales</th>\n",
       "      <th>Locale_Short</th>\n",
       "    </tr>\n",
       "  </thead>\n",
       "  <tbody>\n",
       "    <tr>\n",
       "      <th>0</th>\n",
       "      <td>Alabama A &amp; M University</td>\n",
       "      <td>100200</td>\n",
       "      <td>5</td>\n",
       "      <td>850.0</td>\n",
       "      <td>0.7249</td>\n",
       "      <td>0.8159</td>\n",
       "      <td>0.653841</td>\n",
       "      <td>4380.0</td>\n",
       "      <td>7017.0</td>\n",
       "      <td>0.477631579</td>\n",
       "      <td>...</td>\n",
       "      <td>1</td>\n",
       "      <td>0.0</td>\n",
       "      <td>0.0</td>\n",
       "      <td>12.0</td>\n",
       "      <td>13435.0</td>\n",
       "      <td>Graduate</td>\n",
       "      <td>Public</td>\n",
       "      <td>South East</td>\n",
       "      <td>City: Midsize</td>\n",
       "      <td>City</td>\n",
       "    </tr>\n",
       "  </tbody>\n",
       "</table>\n",
       "<p>1 rows × 24 columns</p>\n",
       "</div>"
      ],
      "text/plain": [
       "                     INSTNM   OPEID  REGION  SAT_AVG_ALL  PCTPELL  PCTFLOAN  \\\n",
       "0  Alabama A & M University  100200       5        850.0   0.7249    0.8159   \n",
       "\n",
       "   ADM_RATE_ALL      UG  AVGFACSAL COMPL_RPY_5YR_RT  ... CONTROL WOMENONLY  \\\n",
       "0      0.653841  4380.0     7017.0      0.477631579  ...       1       0.0   \n",
       "\n",
       "   MENONLY  LOCALE  Tuition  Degree_Type  Ownership     Regions  \\\n",
       "0      0.0    12.0  13435.0     Graduate     Public  South East   \n",
       "\n",
       "         Locales Locale_Short  \n",
       "0  City: Midsize         City  \n",
       "\n",
       "[1 rows x 24 columns]"
      ]
     },
     "execution_count": 1,
     "metadata": {},
     "output_type": "execute_result"
    }
   ],
   "source": [
    "# Importing course packages; you can add more too!\n",
    "import pandas as pd\n",
    "import numpy as np\n",
    "import matplotlib.pyplot as plt\n",
    "import seaborn as sns\n",
    "import warnings\n",
    "warnings.filterwarnings('ignore')\n",
    "\n",
    "# Importing course datasets as DataFrames\n",
    "bike_share = pd.read_csv('datasets/bike_share.csv')\n",
    "college_data = pd.read_csv('datasets/college_datav3.csv')\n",
    "daily_show = pd.read_csv('datasets/daily_show_guests_cleaned.csv')\n",
    "insurance = pd.read_csv('datasets/insurance_premiums.csv')\n",
    "grants = pd.read_csv('datasets/schoolimprovement2010grants.csv', index_col=0)\n",
    "pay_sys= pd.read_csv('./datasets/Inpatient_Prospective_Payment_System.csv')\n",
    "\n",
    "college_data.head(1) # Display the first five rows of this DataFrame"
   ]
  },
  {
   "cell_type": "markdown",
   "id": "8e3d2023",
   "metadata": {},
   "source": [
    "## Using FacetGrid,factorplot and lmplot"
   ]
  },
  {
   "cell_type": "code",
   "execution_count": null,
   "id": "cd380111",
   "metadata": {},
   "outputs": [],
   "source": []
  }
 ],
 "metadata": {
  "kernelspec": {
   "display_name": "Python 3",
   "language": "python",
   "name": "python3"
  },
  "language_info": {
   "codemirror_mode": {
    "name": "ipython",
    "version": 3
   },
   "file_extension": ".py",
   "mimetype": "text/x-python",
   "name": "python",
   "nbconvert_exporter": "python",
   "pygments_lexer": "ipython3",
   "version": "3.8.8"
  }
 },
 "nbformat": 4,
 "nbformat_minor": 5
}
