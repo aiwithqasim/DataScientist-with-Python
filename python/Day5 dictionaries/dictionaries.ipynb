{
 "cells": [
  {
   "cell_type": "markdown",
   "metadata": {},
   "source": [
    "### Recap"
   ]
  },
  {
   "cell_type": "code",
   "execution_count": 4,
   "metadata": {},
   "outputs": [
    {
     "data": {
      "text/plain": [
       "[20, 'qasim', 'ds']"
      ]
     },
     "execution_count": 4,
     "metadata": {},
     "output_type": "execute_result"
    }
   ],
   "source": [
    "#      0    1      2   \n",
    "l1 = [20,'qasim', 'ds']\n",
    "#      3    2     1\n",
    "\n",
    "#list[index]\n",
    "#list[elemnts, element1]\n",
    "l1"
   ]
  },
  {
   "cell_type": "markdown",
   "metadata": {},
   "source": [
    "# Dictionary"
   ]
  },
  {
   "cell_type": "markdown",
   "metadata": {},
   "source": [
    "syntax ---> { key: value}\n",
    "- clear\n",
    "- copy\n",
    "- formkey\n",
    "- get\n",
    "- itmes\n",
    "- keys\n",
    "- pop\n",
    "- popitem\n",
    "- setdefault\n",
    "- update\n",
    "    - how to sort dictionary using \"sorted()\"\n",
    "- values"
   ]
  },
  {
   "cell_type": "code",
   "execution_count": 6,
   "metadata": {},
   "outputs": [
    {
     "data": {
      "text/plain": [
       "{'id': 1, 'name': 'qasim', 'course': 'ds'}"
      ]
     },
     "execution_count": 6,
     "metadata": {},
     "output_type": "execute_result"
    }
   ],
   "source": [
    "{'id': 1,\n",
    "'name': 'qasim',\n",
    "'course': 'ds'}"
   ]
  },
  {
   "cell_type": "code",
   "execution_count": 9,
   "metadata": {},
   "outputs": [
    {
     "data": {
      "text/plain": [
       "{'id': 1, 'name': 'qasim', 'course': 'ds'}"
      ]
     },
     "execution_count": 9,
     "metadata": {},
     "output_type": "execute_result"
    }
   ],
   "source": [
    "dict1 = {'id': 1,\n",
    "         'name': 'qasim',\n",
    "         'course': 'ds'}\n",
    "dict1"
   ]
  },
  {
   "cell_type": "code",
   "execution_count": 12,
   "metadata": {},
   "outputs": [
    {
     "data": {
      "text/plain": [
       "{'id': 2, 'name': 'Muneeb', 'course': 'A.I'}"
      ]
     },
     "execution_count": 12,
     "metadata": {},
     "output_type": "execute_result"
    }
   ],
   "source": [
    "dict2 = {}\n",
    "\n",
    "dict2['id'] = 2\n",
    "dict2['name'] = 'Muneeb'\n",
    "dict2 ['course'] = 'A.I'\n",
    "\n",
    "dict2"
   ]
  },
  {
   "cell_type": "code",
   "execution_count": 11,
   "metadata": {},
   "outputs": [
    {
     "data": {
      "text/plain": [
       "{'foo': 100, 'bar': 200, 'baz': 300}"
      ]
     },
     "execution_count": 11,
     "metadata": {},
     "output_type": "execute_result"
    }
   ],
   "source": [
    "d = dict(foo= 100,bar = 200 , baz = 300)\n",
    "d"
   ]
  },
  {
   "cell_type": "code",
   "execution_count": 12,
   "metadata": {},
   "outputs": [
    {
     "name": "stdout",
     "output_type": "stream",
     "text": [
      "{('bar', 200), ('foo', 100), ('baz', 300)}\n"
     ]
    },
    {
     "data": {
      "text/plain": [
       "set"
      ]
     },
     "execution_count": 12,
     "metadata": {},
     "output_type": "execute_result"
    }
   ],
   "source": [
    "d = {\n",
    "    ('foo', 100),\n",
    "    ('bar', 200),\n",
    "    ('baz', 300)\n",
    "}\n",
    "\n",
    "print(d) \n",
    "type(d)"
   ]
  },
  {
   "cell_type": "code",
   "execution_count": 13,
   "metadata": {},
   "outputs": [
    {
     "name": "stdout",
     "output_type": "stream",
     "text": [
      "{'id': 2, 'name': 'Muneeb', 'course': 'A.I'}\n",
      "{}\n"
     ]
    }
   ],
   "source": [
    "print(dict2)\n",
    "dict2.clear() #in memory function\n",
    "print(dict2)"
   ]
  },
  {
   "cell_type": "code",
   "execution_count": 14,
   "metadata": {},
   "outputs": [
    {
     "name": "stdout",
     "output_type": "stream",
     "text": [
      "{}\n"
     ]
    },
    {
     "ename": "NameError",
     "evalue": "name 'dict2' is not defined",
     "output_type": "error",
     "traceback": [
      "\u001b[1;31m---------------------------------------------------------------------------\u001b[0m",
      "\u001b[1;31mNameError\u001b[0m                                 Traceback (most recent call last)",
      "\u001b[1;32m<ipython-input-14-b24a0f9a9a1e>\u001b[0m in \u001b[0;36m<module>\u001b[1;34m\u001b[0m\n\u001b[0;32m      1\u001b[0m \u001b[0mprint\u001b[0m\u001b[1;33m(\u001b[0m\u001b[0mdict2\u001b[0m\u001b[1;33m)\u001b[0m\u001b[1;33m\u001b[0m\u001b[1;33m\u001b[0m\u001b[0m\n\u001b[0;32m      2\u001b[0m \u001b[1;32mdel\u001b[0m\u001b[1;33m(\u001b[0m\u001b[0mdict2\u001b[0m\u001b[1;33m)\u001b[0m\u001b[1;33m\u001b[0m\u001b[1;33m\u001b[0m\u001b[0m\n\u001b[1;32m----> 3\u001b[1;33m \u001b[0mprint\u001b[0m\u001b[1;33m(\u001b[0m\u001b[0mdict2\u001b[0m\u001b[1;33m)\u001b[0m\u001b[1;33m\u001b[0m\u001b[1;33m\u001b[0m\u001b[0m\n\u001b[0m",
      "\u001b[1;31mNameError\u001b[0m: name 'dict2' is not defined"
     ]
    }
   ],
   "source": [
    "print(dict2)\n",
    "del(dict2) # destory the variable also\n",
    "print(dict2)"
   ]
  },
  {
   "cell_type": "code",
   "execution_count": 17,
   "metadata": {},
   "outputs": [
    {
     "data": {
      "text/plain": [
       "{'name': 'qasim', 'course': 'ds'}"
      ]
     },
     "execution_count": 17,
     "metadata": {},
     "output_type": "execute_result"
    }
   ],
   "source": [
    " d = {'id': 0, 'name': 'qasim', 'course': 'ds'}\n",
    "del d['id']\n",
    "d"
   ]
  },
  {
   "cell_type": "code",
   "execution_count": 18,
   "metadata": {},
   "outputs": [
    {
     "name": "stdout",
     "output_type": "stream",
     "text": [
      "{'id': 0, 'name': 'qasim', 'course': 'ds'}\n",
      "{'id': 0, 'name': 'qasim', 'course': 'ds'}\n",
      "{'id': 0, 'name': 'qasim', 'course': 'ds'}\n"
     ]
    }
   ],
   "source": [
    "print(dict1)\n",
    "dict2 = dict1.copy()\n",
    "dict1['id'] = 0\n",
    "print(dict1)\n",
    "print(dict2)"
   ]
  },
  {
   "cell_type": "raw",
   "metadata": {},
   "source": [
    "Signature: dict.fromkeys(iterable, value=None, /)\n",
    "Docstring: Create a new dictionary with keys from iterable and values set to value.\n",
    "Type:      builtin_function_or_method"
   ]
  },
  {
   "cell_type": "code",
   "execution_count": 26,
   "metadata": {},
   "outputs": [
    {
     "data": {
      "text/plain": [
       "{'id': None, 'name': None, 'course': None, 'address': None}"
      ]
     },
     "execution_count": 26,
     "metadata": {},
     "output_type": "execute_result"
    }
   ],
   "source": [
    "l1 = ['id', 'name', 'course', 'address']\n",
    "val = ['0','ali','DS', 'karachi']\n",
    "\n",
    "dict_formkeys = dict.fromkeys(l1)\n",
    "dict_formkeys"
   ]
  },
  {
   "cell_type": "code",
   "execution_count": 27,
   "metadata": {},
   "outputs": [
    {
     "data": {
      "text/plain": [
       "{'id': 'NAN', 'name': 'NAN', 'course': 'NAN', 'address': 'NAN'}"
      ]
     },
     "execution_count": 27,
     "metadata": {},
     "output_type": "execute_result"
    }
   ],
   "source": [
    "l1 = ['id', 'name', 'course', 'address']\n",
    "val = ['0','ali','DS', 'karachi']\n",
    "\n",
    "dict_formkeys = dict.fromkeys(l1, 'NAN')\n",
    "dict_formkeys"
   ]
  },
  {
   "cell_type": "code",
   "execution_count": 31,
   "metadata": {},
   "outputs": [
    {
     "name": "stdout",
     "output_type": "stream",
     "text": [
      "Enter keys for dictionary: 1,2,3,4,5\n",
      "['1', '2', '3', '4', '5']\n",
      "{}\n"
     ]
    },
    {
     "data": {
      "text/plain": [
       "{'1': None, '2': None, '3': None, '4': None, '5': None}"
      ]
     },
     "execution_count": 31,
     "metadata": {},
     "output_type": "execute_result"
    }
   ],
   "source": [
    "a = input('Enter keys for dictionary: ')\n",
    "a = a.split(',')\n",
    "print(a)\n",
    "\n",
    "dict3 = {}\n",
    "print(dict3)\n",
    "\n",
    "for i in a:\n",
    "    dict3[i] = None\n",
    "\n",
    "dict3"
   ]
  },
  {
   "cell_type": "code",
   "execution_count": 32,
   "metadata": {},
   "outputs": [
    {
     "name": "stdout",
     "output_type": "stream",
     "text": [
      "Enter keys for dictionary: 3,4,5,6,7\n"
     ]
    },
    {
     "data": {
      "text/plain": [
       "{'3': None, '4': None, '5': None, '6': None, '7': None}"
      ]
     },
     "execution_count": 32,
     "metadata": {},
     "output_type": "execute_result"
    }
   ],
   "source": [
    "a = input('Enter keys for dictionary: ').split(',')\n",
    "dict.fromkeys(a)"
   ]
  },
  {
   "cell_type": "code",
   "execution_count": 38,
   "metadata": {},
   "outputs": [
    {
     "name": "stdout",
     "output_type": "stream",
     "text": [
      "enter keys for dict: id,name,course\n",
      "enter values for dict: 1,qasim,ds\n"
     ]
    },
    {
     "data": {
      "text/plain": [
       "{'id': '1', 'name': 'qasim', 'course': 'ds'}"
      ]
     },
     "execution_count": 38,
     "metadata": {},
     "output_type": "execute_result"
    }
   ],
   "source": [
    "keys = input('enter keys for dict: ').split(',')\n",
    "values = input('enter values for dict: ').split(',')\n",
    "\n",
    "dict4 = {}\n",
    "for i in range(len(keys)):\n",
    "    dict4[keys[i]] = values[i]\n",
    "dict4"
   ]
  },
  {
   "cell_type": "code",
   "execution_count": 39,
   "metadata": {},
   "outputs": [
    {
     "name": "stdout",
     "output_type": "stream",
     "text": [
      "<zip object at 0x000002C53E54C940>\n"
     ]
    },
    {
     "data": {
      "text/plain": [
       "[(1, 'qasim', 'ds'), (2, 'ali', 'cnc'), (3, 'raza', 'web')]"
      ]
     },
     "execution_count": 39,
     "metadata": {},
     "output_type": "execute_result"
    }
   ],
   "source": [
    "ids = [1,2,3]\n",
    "name = ['qasim', 'ali', 'raza']\n",
    "course = ['ds', 'cnc', 'web']\n",
    "\n",
    "zip_variable = zip(ids,name,course)\n",
    "print(zip_variable)\n",
    "list(zip_variable)"
   ]
  },
  {
   "cell_type": "code",
   "execution_count": 41,
   "metadata": {},
   "outputs": [
    {
     "data": {
      "text/plain": [
       "[(1, 'qasim'), (2, 'ali'), (3, 'raza')]"
      ]
     },
     "execution_count": 41,
     "metadata": {},
     "output_type": "execute_result"
    }
   ],
   "source": [
    "list(zip(ids,name))"
   ]
  },
  {
   "cell_type": "code",
   "execution_count": 43,
   "metadata": {},
   "outputs": [
    {
     "name": "stdout",
     "output_type": "stream",
     "text": [
      "{1: 'qasim', 2: 'ali', 3: 'raza'}\n"
     ]
    }
   ],
   "source": [
    "dict1 = dict(list(zip(ids,name)))\n",
    "print(dict1)"
   ]
  },
  {
   "cell_type": "code",
   "execution_count": 46,
   "metadata": {},
   "outputs": [
    {
     "name": "stdout",
     "output_type": "stream",
     "text": [
      "enter id: 0\n",
      "enter name: qasim\n",
      "Enter skills: pyhton,numpy,pandas\n"
     ]
    },
    {
     "data": {
      "text/plain": [
       "{'id': '0', 'name': 'qasim', 'skills': ['pyhton', 'numpy', 'pandas']}"
      ]
     },
     "execution_count": 46,
     "metadata": {},
     "output_type": "execute_result"
    }
   ],
   "source": [
    "dict2 = { 'id': input('enter id: '),\n",
    "         'name': input('enter name: '),\n",
    "         'skills': input('Enter skills: ').split(',')\n",
    "}\n",
    "dict2"
   ]
  },
  {
   "cell_type": "code",
   "execution_count": 49,
   "metadata": {},
   "outputs": [
    {
     "ename": "KeyError",
     "evalue": "'name'",
     "output_type": "error",
     "traceback": [
      "\u001b[1;31m---------------------------------------------------------------------------\u001b[0m",
      "\u001b[1;31mKeyError\u001b[0m                                  Traceback (most recent call last)",
      "\u001b[1;32m<ipython-input-49-e4a3b4848cf8>\u001b[0m in \u001b[0;36m<module>\u001b[1;34m\u001b[0m\n\u001b[0;32m      1\u001b[0m \u001b[0md1\u001b[0m \u001b[1;33m=\u001b[0m \u001b[1;33m{\u001b[0m\u001b[1;34m'id'\u001b[0m\u001b[1;33m:\u001b[0m \u001b[1;36m0\u001b[0m\u001b[1;33m}\u001b[0m\u001b[1;33m\u001b[0m\u001b[1;33m\u001b[0m\u001b[0m\n\u001b[0;32m      2\u001b[0m \u001b[1;33m\u001b[0m\u001b[0m\n\u001b[1;32m----> 3\u001b[1;33m \u001b[0md1\u001b[0m\u001b[1;33m[\u001b[0m\u001b[1;34m'name'\u001b[0m\u001b[1;33m]\u001b[0m \u001b[1;31m# key error\u001b[0m\u001b[1;33m\u001b[0m\u001b[1;33m\u001b[0m\u001b[0m\n\u001b[0m",
      "\u001b[1;31mKeyError\u001b[0m: 'name'"
     ]
    }
   ],
   "source": [
    "d1 = {'id': 0}\n",
    "\n",
    "d1['name'] # key error"
   ]
  },
  {
   "cell_type": "code",
   "execution_count": 53,
   "metadata": {},
   "outputs": [
    {
     "name": "stdout",
     "output_type": "stream",
     "text": [
      "not avaliable\n",
      "{'id': 0}\n"
     ]
    }
   ],
   "source": [
    "print(d1.get('name', 'not avaliable'))\n",
    "print(d1)"
   ]
  },
  {
   "cell_type": "code",
   "execution_count": 56,
   "metadata": {},
   "outputs": [
    {
     "name": "stdout",
     "output_type": "stream",
     "text": [
      "[('id', '0'), ('name', 'qasim'), ('skills', ['pyhton', 'numpy', 'pandas'])]\n",
      "['id', 'name', 'skills']\n",
      "['0', 'qasim', ['pyhton', 'numpy', 'pandas']]\n"
     ]
    }
   ],
   "source": [
    " dic = {'id': '0', 'name': 'qasim', 'skills': ['pyhton', 'numpy', 'pandas']}\n",
    "print(list(dic.items()))\n",
    "print(list(dic.keys()))\n",
    "print(list(dic.values()))"
   ]
  },
  {
   "cell_type": "code",
   "execution_count": 50,
   "metadata": {},
   "outputs": [
    {
     "name": "stdout",
     "output_type": "stream",
     "text": [
      "True\n",
      "False\n"
     ]
    }
   ],
   "source": [
    "a_dict = {'one': 1, 'two':2, 'three':3, 'four':4}\n",
    "\n",
    "print('one' in a_dict.keys())\n",
    "print('five' in a_dict.keys())"
   ]
  },
  {
   "cell_type": "code",
   "execution_count": 28,
   "metadata": {},
   "outputs": [
    {
     "name": "stdout",
     "output_type": "stream",
     "text": [
      "{'one': 1, 'two': 2}\n",
      "{'one': 1, 'two': 2, 'three': 3, 'four': 4}\n"
     ]
    }
   ],
   "source": [
    "a_dict = {'one': 1, 'two':2, 'three':3, 'four':4}\n",
    "new_dict = {}\n",
    "for key, value in a_dict.items():\n",
    "    if value <= 2:\n",
    "        new_dict[key] = value\n",
    "print(new_dict)\n",
    "print(a_dict)"
   ]
  },
  {
   "cell_type": "code",
   "execution_count": 30,
   "metadata": {},
   "outputs": [
    {
     "name": "stdout",
     "output_type": "stream",
     "text": [
      "{'one': 1, 'two': 2, 'three': 3, 'four': 4}\n",
      "{1: 'one', 2: 'two', 3: 'three', 4: 'four'}\n"
     ]
    }
   ],
   "source": [
    "a_dict = {'one': 1, 'two':2, 'three':3, 'four':4}\n",
    "print(a_dict)\n",
    "new_dict = {}\n",
    "for key, value in a_dict.items():\n",
    "        new_dict[value] = key\n",
    "print(new_dict)"
   ]
  },
  {
   "cell_type": "code",
   "execution_count": 35,
   "metadata": {},
   "outputs": [
    {
     "name": "stdout",
     "output_type": "stream",
     "text": [
      "total price is 14100.0\n"
     ]
    }
   ],
   "source": [
    "incomes = {'apples': 5600.0, 'orange': 3500.0, 'banana':5000.0}\n",
    "total_cost = 0.0\n",
    "\n",
    "for value in incomes.values():\n",
    "    total_cost += value\n",
    "    \n",
    "print(f'total price is {total_cost}')"
   ]
  },
  {
   "cell_type": "code",
   "execution_count": 18,
   "metadata": {},
   "outputs": [
    {
     "name": "stdout",
     "output_type": "stream",
     "text": [
      "color\n",
      "fruit\n",
      "pet\n"
     ]
    }
   ],
   "source": [
    "a_dict = {'color': 'blue', 'fruit': 'apple', 'pet':'dog'}\n",
    "\n",
    "for key in a_dict: # by default it picks keys\n",
    "    print(key)"
   ]
  },
  {
   "cell_type": "code",
   "execution_count": 22,
   "metadata": {},
   "outputs": [
    {
     "name": "stdout",
     "output_type": "stream",
     "text": [
      "dict_keys(['color', 'fruit', 'pet'])\n",
      "\n",
      "color\n",
      "fruit\n",
      "pet\n"
     ]
    }
   ],
   "source": [
    "a_dict = {'color': 'blue', 'fruit': 'apple', 'pet':'dog'}\n",
    "\n",
    "keys = a_dict.keys()\n",
    "print(keys)\n",
    "print()\n",
    "for key in a_dict.keys(): # selecting keys \n",
    "    print(key)"
   ]
  },
  {
   "cell_type": "code",
   "execution_count": 24,
   "metadata": {},
   "outputs": [
    {
     "name": "stdout",
     "output_type": "stream",
     "text": [
      "dict_values(['blue', 'apple', 'dog'])\n",
      "\n",
      "blue\n",
      "apple\n",
      "dog\n"
     ]
    }
   ],
   "source": [
    "a_dict = {'color': 'blue', 'fruit': 'apple', 'pet':'dog'}\n",
    "\n",
    "values = a_dict.values()\n",
    "print(values)\n",
    "print()\n",
    "for value in a_dict.values(): # selecting values\n",
    "    print(value)"
   ]
  },
  {
   "cell_type": "code",
   "execution_count": 27,
   "metadata": {},
   "outputs": [
    {
     "ename": "RuntimeError",
     "evalue": "dictionary changed size during iteration",
     "output_type": "error",
     "traceback": [
      "\u001b[1;31m---------------------------------------------------------------------------\u001b[0m",
      "\u001b[1;31mRuntimeError\u001b[0m                              Traceback (most recent call last)",
      "\u001b[1;32m<ipython-input-27-133c890b218f>\u001b[0m in \u001b[0;36m<module>\u001b[1;34m\u001b[0m\n\u001b[0;32m      1\u001b[0m \u001b[0mprices\u001b[0m \u001b[1;33m=\u001b[0m \u001b[1;33m{\u001b[0m\u001b[1;34m'apple'\u001b[0m\u001b[1;33m:\u001b[0m \u001b[1;36m0.40\u001b[0m\u001b[1;33m,\u001b[0m \u001b[1;34m'orange'\u001b[0m\u001b[1;33m:\u001b[0m \u001b[1;36m0.35\u001b[0m\u001b[1;33m,\u001b[0m \u001b[1;34m'banana'\u001b[0m\u001b[1;33m:\u001b[0m \u001b[1;36m0.25\u001b[0m\u001b[1;33m}\u001b[0m\u001b[1;33m\u001b[0m\u001b[1;33m\u001b[0m\u001b[0m\n\u001b[0;32m      2\u001b[0m \u001b[1;33m\u001b[0m\u001b[0m\n\u001b[1;32m----> 3\u001b[1;33m \u001b[1;32mfor\u001b[0m \u001b[0mkey\u001b[0m \u001b[1;32min\u001b[0m \u001b[0mprices\u001b[0m\u001b[1;33m.\u001b[0m\u001b[0mkeys\u001b[0m\u001b[1;33m(\u001b[0m\u001b[1;33m)\u001b[0m\u001b[1;33m:\u001b[0m\u001b[1;33m\u001b[0m\u001b[1;33m\u001b[0m\u001b[0m\n\u001b[0m\u001b[0;32m      4\u001b[0m     \u001b[1;32mif\u001b[0m \u001b[0mkey\u001b[0m \u001b[1;33m==\u001b[0m \u001b[1;34m'orange'\u001b[0m\u001b[1;33m:\u001b[0m\u001b[1;33m\u001b[0m\u001b[1;33m\u001b[0m\u001b[0m\n\u001b[0;32m      5\u001b[0m         \u001b[1;32mdel\u001b[0m \u001b[0mprices\u001b[0m\u001b[1;33m[\u001b[0m\u001b[0mkey\u001b[0m\u001b[1;33m]\u001b[0m\u001b[1;33m\u001b[0m\u001b[1;33m\u001b[0m\u001b[0m\n",
      "\u001b[1;31mRuntimeError\u001b[0m: dictionary changed size during iteration"
     ]
    }
   ],
   "source": [
    "prices = {'apple': 0.40, 'orange': 0.35, 'banana': 0.25}\n",
    "\n",
    "for key in prices.keys():\n",
    "    if key == 'orange':\n",
    "        del prices[key]"
   ]
  },
  {
   "cell_type": "code",
   "execution_count": 3,
   "metadata": {},
   "outputs": [
    {
     "name": "stdout",
     "output_type": "stream",
     "text": [
      "{'id': '0', 'name': 'qasim', 'skills': ['pyhton', 'numpy', 'pandas']}\n",
      "0\n",
      "{'name': 'qasim', 'skills': ['pyhton', 'numpy', 'pandas']}\n"
     ]
    }
   ],
   "source": [
    "dic = {'id': '0', 'name': 'qasim', 'skills': ['pyhton', 'numpy', 'pandas']}\n",
    "\n",
    "print(dic)\n",
    "print(dic.pop('id')) # pop specified key\n",
    "print(dic)"
   ]
  },
  {
   "cell_type": "code",
   "execution_count": 4,
   "metadata": {},
   "outputs": [
    {
     "name": "stdout",
     "output_type": "stream",
     "text": [
      "{'id': '0', 'name': 'qasim', 'skills': ['pyhton', 'numpy', 'pandas']}\n",
      "('skills', ['pyhton', 'numpy', 'pandas'])\n",
      "{'id': '0', 'name': 'qasim'}\n"
     ]
    }
   ],
   "source": [
    "dic = {'id': '0', 'name': 'qasim', 'skills': ['pyhton', 'numpy', 'pandas']}\n",
    "\n",
    "print(dic)\n",
    "print(dic.popitem()) # pop from last \n",
    "print(dic)"
   ]
  },
  {
   "cell_type": "code",
   "execution_count": 52,
   "metadata": {},
   "outputs": [
    {
     "name": "stdout",
     "output_type": "stream",
     "text": [
      "{'color': 'blue', 'fruit': 'apple', 'pet': 'dog'}\n",
      "Dictionary length: 3\n",
      "Removed : ('pet', 'dog')\n",
      "Dictionary length: 2\n",
      "Removed : ('fruit', 'apple')\n",
      "Dictionary length: 1\n",
      "Removed : ('color', 'blue')\n",
      "Dictionary length: 0\n",
      "The dictionary has no item now..!!!\n"
     ]
    }
   ],
   "source": [
    "a_dict = {'color': 'blue', 'fruit': 'apple', 'pet':'dog'}\n",
    "print(a_dict)\n",
    "\n",
    "while True:\n",
    "    try:\n",
    "        print(f'Dictionary length: {len(a_dict)}')\n",
    "        item = a_dict.popitem()\n",
    "        print(f'Removed : {item}')\n",
    "        \n",
    "    except KeyError:\n",
    "        print('The dictionary has no item now..!!!')\n",
    "        break"
   ]
  },
  {
   "cell_type": "code",
   "execution_count": 5,
   "metadata": {},
   "outputs": [
    {
     "name": "stdout",
     "output_type": "stream",
     "text": [
      "{'id': '0', 'name': 'qasim', 'skills': ['pyhton', 'numpy', 'pandas']}\n",
      "0\n",
      "{'id': '0', 'name': 'qasim', 'skills': ['pyhton', 'numpy', 'pandas']}\n"
     ]
    }
   ],
   "source": [
    "dic = {'id': '0', 'name': 'qasim', 'skills': ['pyhton', 'numpy', 'pandas']}\n",
    "\n",
    "print(dic)\n",
    "print(dic.setdefault('id', '202')) # cann't make already avaliable key to default\n",
    "print(dic)\n"
   ]
  },
  {
   "cell_type": "code",
   "execution_count": 6,
   "metadata": {},
   "outputs": [
    {
     "name": "stdout",
     "output_type": "stream",
     "text": [
      "{'id': '0', 'name': 'qasim', 'skills': ['pyhton', 'numpy', 'pandas']}\n",
      "AI\n",
      "{'id': '0', 'name': 'qasim', 'skills': ['pyhton', 'numpy', 'pandas'], 'course': 'AI'}\n"
     ]
    }
   ],
   "source": [
    "dic = {'id': '0', 'name': 'qasim', 'skills': ['pyhton', 'numpy', 'pandas']}\n",
    "\n",
    "print(dic)\n",
    "print(dic.setdefault('course', 'AI')) # add new key, value pair as defaault\n",
    "print(dic)"
   ]
  },
  {
   "cell_type": "code",
   "execution_count": 8,
   "metadata": {},
   "outputs": [
    {
     "data": {
      "text/plain": [
       "{'a': 1, 'b': 20, 'c': 300, 'x': 100}"
      ]
     },
     "execution_count": 8,
     "metadata": {},
     "output_type": "execute_result"
    }
   ],
   "source": [
    "d1 = {'a':1, 'b':2, 'c':3}\n",
    "d2 = { 'x':100, 'b':20, 'c':300}\n",
    "        \n",
    "d1.update(d2)\n",
    "d1"
   ]
  },
  {
   "cell_type": "code",
   "execution_count": 9,
   "metadata": {},
   "outputs": [
    {
     "name": "stdout",
     "output_type": "stream",
     "text": [
      "{'a': 4, 'c': 3, 's': 2}\n"
     ]
    }
   ],
   "source": [
    "d1 = {'s':2,\n",
    "     'c':3,\n",
    "     'a':4}\n",
    "\n",
    "d2 = {}\n",
    "for i in sorted(d1.keys()):\n",
    "    d2[i] = d1[i]\n",
    "print(d2)"
   ]
  },
  {
   "cell_type": "code",
   "execution_count": 27,
   "metadata": {},
   "outputs": [
    {
     "name": "stdout",
     "output_type": "stream",
     "text": [
      "{'b': 100, 'c': 200, 'a': 300}\n"
     ]
    }
   ],
   "source": [
    "moon = {}\n",
    "scores = {'b':100, 'c':200, 'a':300}\n",
    "\n",
    "\n",
    "for key,value in sorted(scores.items(), key= lambda kv:kv[1]): # sort by values\n",
    "    moon[key] = value\n",
    "print(moon)"
   ]
  },
  {
   "cell_type": "code",
   "execution_count": 29,
   "metadata": {},
   "outputs": [
    {
     "name": "stdout",
     "output_type": "stream",
     "text": [
      "{'a': 300, 'b': 100, 'c': 200}\n"
     ]
    }
   ],
   "source": [
    "moon = {}\n",
    "scores = {'b':100, 'c':200, 'a':300}\n",
    "\n",
    "\n",
    "for key,value in sorted(scores.items(), key= lambda kv:kv[0]): # sort by keys\n",
    "    moon[key] = value\n",
    "print(moon)"
   ]
  },
  {
   "cell_type": "code",
   "execution_count": 32,
   "metadata": {},
   "outputs": [
    {
     "name": "stdout",
     "output_type": "stream",
     "text": [
      "{'a': 300, 'b': 100, 'c': 200}\n"
     ]
    }
   ],
   "source": [
    "moon = {}\n",
    "scores = {'b':100, 'c':200, 'a':300}\n",
    "\n",
    "\n",
    "for key,value in sorted(scores.items()): # sort by keys\n",
    "    moon[key] = value\n",
    "print(moon)"
   ]
  },
  {
   "cell_type": "code",
   "execution_count": 33,
   "metadata": {},
   "outputs": [
    {
     "name": "stdout",
     "output_type": "stream",
     "text": [
      "{'c': 200, 'b': 100, 'a': 300}\n"
     ]
    }
   ],
   "source": [
    "moon = {}\n",
    "scores = {'b':100, 'c':200, 'a':300}\n",
    "\n",
    "\n",
    "for key,value in sorted(scores.items(), reverse=True): # sort by keys\n",
    "    moon[key] = value\n",
    "print(moon)"
   ]
  },
  {
   "cell_type": "code",
   "execution_count": 37,
   "metadata": {},
   "outputs": [
    {
     "name": "stdout",
     "output_type": "stream",
     "text": [
      "press n/N to stop: y\n",
      "enter your id: 0\n",
      "enter your name: qasim\n",
      "enter course name: AI\n",
      "press n/N to stop: y\n",
      "enter your id: 1\n",
      "enter your name: Muneeb\n",
      "enter course name: CNC\n",
      "press n/N to stop: n\n",
      "[{'id': '0', 'name': 'qasim', 'course': 'AI'}, {'id': '1', 'name': 'Muneeb', 'course': 'CNC'}]\n"
     ]
    }
   ],
   "source": [
    "l1 = []\n",
    "run = True\n",
    "\n",
    "while run:\n",
    "    choice = input('press n/N to stop: ')\n",
    "    if choice == 'n' or choice == 'N':\n",
    "        run = False\n",
    "    else:\n",
    "        d1 = {'id': input('enter your id: '),\n",
    "             'name': input('enter your name: '),\n",
    "             'course': input('enter course name: ')}\n",
    "        l1.append(d1)\n",
    "print(l1) # display list of dictionaries"
   ]
  },
  {
   "cell_type": "code",
   "execution_count": 38,
   "metadata": {},
   "outputs": [
    {
     "data": {
      "text/plain": [
       "[('a', 'z', 100), ('b', 'y', 200), ('c', 'x', 300)]"
      ]
     },
     "execution_count": 38,
     "metadata": {},
     "output_type": "execute_result"
    }
   ],
   "source": [
    "a = [('a','z',100),\n",
    "    ('b','y',200),\n",
    "    ('c', 'x', 300)] # display list of dictionaries\n",
    "a"
   ]
  },
  {
   "cell_type": "markdown",
   "metadata": {},
   "source": [
    "## Dictionary comprehension"
   ]
  },
  {
   "cell_type": "code",
   "execution_count": 38,
   "metadata": {},
   "outputs": [
    {
     "name": "stdout",
     "output_type": "stream",
     "text": [
      "{'color': 'blue', 'fruit': 'apple', 'animal': 'dog'}\n"
     ]
    }
   ],
   "source": [
    "objects = ['blue', 'apple', 'dog']\n",
    "categories = ['color', 'fruit', 'animal']\n",
    "\n",
    "new_dic = { key : value for key, value in zip(categories, objects)}\n",
    "\n",
    "print(new_dic)"
   ]
  },
  {
   "cell_type": "code",
   "execution_count": 41,
   "metadata": {},
   "outputs": [
    {
     "name": "stdout",
     "output_type": "stream",
     "text": [
      "{'blue': 'color', 'apple': 'fruit', 'dog': 'animal'}\n"
     ]
    }
   ],
   "source": [
    "d = {'color': 'blue', 'fruit': 'apple', 'animal': 'dog'}\n",
    "\n",
    "new_d = { value : key for key,value in d.items()}\n",
    "\n",
    "print(new_d)"
   ]
  },
  {
   "cell_type": "code",
   "execution_count": 45,
   "metadata": {},
   "outputs": [
    {
     "name": "stdout",
     "output_type": "stream",
     "text": [
      "{'one': 1, 'two': 2}\n"
     ]
    }
   ],
   "source": [
    "a_dict = {'one': 1, 'two':2, 'three':3, 'four':4}\n",
    "\n",
    "new_dict = {k : v for k, v in a_dict.items() if v <= 2}\n",
    "print(new_dict)"
   ]
  },
  {
   "cell_type": "code",
   "execution_count": 46,
   "metadata": {},
   "outputs": [
    {
     "ename": "TypeError",
     "evalue": "'builtin_function_or_method' object is not iterable",
     "output_type": "error",
     "traceback": [
      "\u001b[1;31m---------------------------------------------------------------------------\u001b[0m",
      "\u001b[1;31mTypeError\u001b[0m                                 Traceback (most recent call last)",
      "\u001b[1;32m<ipython-input-46-701ebc60fb96>\u001b[0m in \u001b[0;36m<module>\u001b[1;34m\u001b[0m\n\u001b[0;32m      1\u001b[0m \u001b[0ma_dict\u001b[0m \u001b[1;33m=\u001b[0m \u001b[1;33m{\u001b[0m\u001b[1;34m'one'\u001b[0m\u001b[1;33m:\u001b[0m \u001b[1;36m1\u001b[0m\u001b[1;33m,\u001b[0m \u001b[1;34m'two'\u001b[0m\u001b[1;33m:\u001b[0m\u001b[1;36m2\u001b[0m\u001b[1;33m,\u001b[0m \u001b[1;34m'three'\u001b[0m\u001b[1;33m:\u001b[0m\u001b[1;36m3\u001b[0m\u001b[1;33m,\u001b[0m \u001b[1;34m'four'\u001b[0m\u001b[1;33m:\u001b[0m\u001b[1;36m4\u001b[0m\u001b[1;33m}\u001b[0m\u001b[1;33m\u001b[0m\u001b[1;33m\u001b[0m\u001b[0m\n\u001b[0;32m      2\u001b[0m \u001b[1;33m\u001b[0m\u001b[0m\n\u001b[1;32m----> 3\u001b[1;33m \u001b[0mnew_dict\u001b[0m \u001b[1;33m=\u001b[0m \u001b[1;33m{\u001b[0m\u001b[0mk\u001b[0m \u001b[1;33m:\u001b[0m \u001b[0mv\u001b[0m \u001b[1;32mfor\u001b[0m \u001b[0mk\u001b[0m\u001b[1;33m,\u001b[0m \u001b[0mv\u001b[0m \u001b[1;32min\u001b[0m \u001b[0ma_dict\u001b[0m\u001b[1;33m.\u001b[0m\u001b[0mitems\u001b[0m \u001b[1;32mif\u001b[0m \u001b[0mv\u001b[0m \u001b[1;33m<=\u001b[0m \u001b[1;36m2\u001b[0m\u001b[1;33m}\u001b[0m\u001b[1;33m\u001b[0m\u001b[1;33m\u001b[0m\u001b[0m\n\u001b[0m\u001b[0;32m      4\u001b[0m \u001b[0mprint\u001b[0m\u001b[1;33m(\u001b[0m\u001b[0mnew_dict\u001b[0m\u001b[1;33m)\u001b[0m\u001b[1;33m\u001b[0m\u001b[1;33m\u001b[0m\u001b[0m\n",
      "\u001b[1;31mTypeError\u001b[0m: 'builtin_function_or_method' object is not iterable"
     ]
    }
   ],
   "source": [
    "a_dict = {'one': 1, 'two':2, 'three':3, 'four':4}\n",
    "\n",
    "new_dict = {k : v for k, v in a_dict.items if v <= 2}\n",
    "print(new_dict)"
   ]
  },
  {
   "cell_type": "markdown",
   "metadata": {},
   "source": [
    "## Iteration through dictionnaries  using some python builtin functions"
   ]
  },
  {
   "cell_type": "markdown",
   "metadata": {},
   "source": [
    "- map()\n",
    "- filter()\n",
    "- ChainMap()\n",
    "- itertools()\n",
    "    - chain()\n",
    "    - cycle()"
   ]
  },
  {
   "cell_type": "code",
   "execution_count": 55,
   "metadata": {},
   "outputs": [
    {
     "data": {
      "text/plain": [
       "{'apples': 0.43, 'orange': 0.33, 'banana': 0.24}"
      ]
     },
     "execution_count": 55,
     "metadata": {},
     "output_type": "execute_result"
    }
   ],
   "source": [
    "prices = {'apples': 0.45, 'orange': 0.35, 'banana':0.25}\n",
    " \n",
    "def discount(current_prices):\n",
    "    return (current_prices[0], round(current_prices[1]*0.95, 2)) # 0.95 means applying 5% discount\n",
    "\n",
    "new_prices = dict(map(discount, prices.items()))\n",
    "new_prices"
   ]
  },
  {
   "cell_type": "code",
   "execution_count": 58,
   "metadata": {},
   "outputs": [
    {
     "name": "stdout",
     "output_type": "stream",
     "text": [
      "['orange', 'banana']\n"
     ]
    }
   ],
   "source": [
    "prices = {'apples': 0.45, 'orange': 0.35, 'banana':0.25}\n",
    "\n",
    "def has_low_price(price):\n",
    "     return prices[price] < 0.4\n",
    "#print(filter(has_low_price, prices.keys()))  ---> return object so converting object into list\n",
    "low_price = list(filter(has_low_price, prices.keys()))\n",
    "print(low_price)"
   ]
  },
  {
   "cell_type": "code",
   "execution_count": 64,
   "metadata": {},
   "outputs": [
    {
     "name": "stdout",
     "output_type": "stream",
     "text": [
      "ChainMap({'apple': 0.4, 'orange': 0.35}, {'pepper': 0.2, 'onion': 0.55})\n",
      "pepper --> 0.2\n",
      "onion --> 0.55\n",
      "apple --> 0.4\n",
      "orange --> 0.35\n"
     ]
    }
   ],
   "source": [
    "from collections import ChainMap\n",
    "\n",
    "fruit_prices = {'apple': 0.40, 'orange': 0.35}\n",
    "vegetable_prices = {'pepper': 0.20, 'onion':0.55}\n",
    "\n",
    "chained_dict = ChainMap(fruit_prices, vegetable_prices)\n",
    "print(chained_dict)\n",
    "\n",
    "# for key in chained_dict:\n",
    "#     print(key , '-->', chained_dict[key])\n",
    "\n",
    "for key,value in chained_dict.items():\n",
    "    print(key, '-->', value)\n",
    "\n"
   ]
  },
  {
   "cell_type": "code",
   "execution_count": 69,
   "metadata": {},
   "outputs": [
    {
     "name": "stdout",
     "output_type": "stream",
     "text": [
      "('apple', 0.4)\n",
      "('orange', 0.35)\n",
      "('apple', 0.4)\n",
      "('orange', 0.35)\n",
      "('apple', 0.4)\n",
      "('orange', 0.35)\n"
     ]
    }
   ],
   "source": [
    "from itertools import cycle\n",
    "\n",
    "fruit_prices = {'apple': 0.40, 'orange': 0.35}\n",
    "times = 3\n",
    "total_items = times * len(fruit_prices)\n",
    "\n",
    "for item  in cycle(fruit_prices.items()):\n",
    "#     print(total_items)\n",
    "    if not total_items:\n",
    "        break\n",
    "    total_items -=1\n",
    "    print(item)"
   ]
  },
  {
   "cell_type": "code",
   "execution_count": 72,
   "metadata": {},
   "outputs": [
    {
     "name": "stdout",
     "output_type": "stream",
     "text": [
      "('apple', 0.4)\n",
      "('orange', 0.35)\n",
      "('pepper', 0.2)\n",
      "('onion', 0.55)\n"
     ]
    }
   ],
   "source": [
    "from itertools import chain\n",
    "\n",
    "fruit_prices = {'apple': 0.40, 'orange': 0.35}\n",
    "vegetable_prices = {'pepper': 0.20, 'onion':0.55}\n",
    "\n",
    "for item  in chain(fruit_prices.items(),vegetable_prices.items()):\n",
    "    print(item)"
   ]
  },
  {
   "cell_type": "markdown",
   "metadata": {},
   "source": [
    "## Using the dictionary unpacking operaor(**)"
   ]
  },
  {
   "cell_type": "code",
   "execution_count": 78,
   "metadata": {},
   "outputs": [
    {
     "name": "stdout",
     "output_type": "stream",
     "text": [
      "{'pepper': 0.2, 'onion': 0.55, 'apple': 0.4, 'orange': 0.35}\n",
      "pepper --> 0.2\n",
      "onion --> 0.55\n",
      "apple --> 0.4\n",
      "orange --> 0.35\n"
     ]
    }
   ],
   "source": [
    "fruit_prices = {'apple': 0.40, 'orange': 0.35}\n",
    "vegetable_prices = {'pepper': 0.20, 'onion':0.55}\n",
    "\n",
    "print({**vegetable_prices, **fruit_prices})\n",
    "\n",
    "for k , v in {**vegetable_prices, **fruit_prices}.items():\n",
    "    print(k, '-->', v)"
   ]
  },
  {
   "cell_type": "code",
   "execution_count": 79,
   "metadata": {},
   "outputs": [
    {
     "name": "stdout",
     "output_type": "stream",
     "text": [
      "{'pepper': 0.2, 'onion': 0.55, 'apple': 0.4, 'orange': 0.35}\n"
     ]
    }
   ],
   "source": [
    "# the apple key is present in both dictionaries. after you merger them, the fruit_price va;ue for apple(0.40) prevailed,\n",
    "# becuase fruit price is the right mosrt dictionary \n",
    "\n",
    "fruit_prices = {'apple': 0.40, 'orange': 0.35}\n",
    "vegetable_prices = {'pepper': 0.20, 'onion':0.55, 'apple': 0.30}\n",
    "\n",
    "print({**vegetable_prices, **fruit_prices})"
   ]
  },
  {
   "cell_type": "code",
   "execution_count": 80,
   "metadata": {},
   "outputs": [
    {
     "data": {
      "text/plain": [
       "{'a': 1, 'b': 3, 'c': 4}"
      ]
     },
     "execution_count": 80,
     "metadata": {},
     "output_type": "execute_result"
    }
   ],
   "source": [
    "x = {'a':1, 'b':2}\n",
    "y = {'b':3, 'c': 4}\n",
    "\n",
    "{**x, **y}"
   ]
  },
  {
   "cell_type": "code",
   "execution_count": null,
   "metadata": {},
   "outputs": [],
   "source": []
  }
 ],
 "metadata": {
  "kernelspec": {
   "display_name": "Python 3",
   "language": "python",
   "name": "python3"
  },
  "language_info": {
   "codemirror_mode": {
    "name": "ipython",
    "version": 3
   },
   "file_extension": ".py",
   "mimetype": "text/x-python",
   "name": "python",
   "nbconvert_exporter": "python",
   "pygments_lexer": "ipython3",
   "version": "3.8.5"
  }
 },
 "nbformat": 4,
 "nbformat_minor": 4
}
